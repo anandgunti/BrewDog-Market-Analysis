{
 "cells": [
  {
   "cell_type": "code",
   "execution_count": 1,
   "id": "f4c55ab2",
   "metadata": {},
   "outputs": [],
   "source": [
    "import pandas as pd"
   ]
  },
  {
   "cell_type": "code",
   "execution_count": 2,
   "id": "1c5c61bc",
   "metadata": {},
   "outputs": [
    {
     "name": "stderr",
     "output_type": "stream",
     "text": [
      "C:\\Users\\anand\\AppData\\Local\\Temp\\ipykernel_3032\\3296488240.py:1: DtypeWarning: Columns (1,2,4,5,7,8,10,12,14,16,18,20,22,24,26,28,30,32,34,36,38,40,42,44,46,48,50,52,54,56,58,60,62,64,66,68,70,72,74,76,78,80,82,84,86,88,90,92,94,96,98,100,102,104,106,108,110,112,114,116,118,120,122,124,126,128) have mixed types. Specify dtype option on import or set low_memory=False.\n",
      "  trade = pd.read_csv(\"Trade.csv\") #importing trade master file\n"
     ]
    }
   ],
   "source": [
    "trade = pd.read_csv(\"Trade.csv\") #importing trade master file \n",
    "tr = pd.read_csv(\"trade res.csv\")#importing the additional file for trade classification"
   ]
  },
  {
   "cell_type": "code",
   "execution_count": null,
   "id": "778dc9c6",
   "metadata": {},
   "outputs": [],
   "source": []
  },
  {
   "cell_type": "markdown",
   "id": "0728ed92",
   "metadata": {},
   "source": [
    "# Selecting the required data from Master file and Rearranging the data"
   ]
  },
  {
   "cell_type": "code",
   "execution_count": 3,
   "id": "e6ba83da",
   "metadata": {},
   "outputs": [
    {
     "data": {
      "text/html": [
       "<div>\n",
       "<style scoped>\n",
       "    .dataframe tbody tr th:only-of-type {\n",
       "        vertical-align: middle;\n",
       "    }\n",
       "\n",
       "    .dataframe tbody tr th {\n",
       "        vertical-align: top;\n",
       "    }\n",
       "\n",
       "    .dataframe thead th {\n",
       "        text-align: right;\n",
       "    }\n",
       "</style>\n",
       "<table border=\"1\" class=\"dataframe\">\n",
       "  <thead>\n",
       "    <tr style=\"text-align: right;\">\n",
       "      <th>Element</th>\n",
       "      <th>Area</th>\n",
       "      <th>Item</th>\n",
       "      <th>Export Quantity</th>\n",
       "      <th>Export Value</th>\n",
       "      <th>Import Quantity</th>\n",
       "      <th>Import Value</th>\n",
       "    </tr>\n",
       "  </thead>\n",
       "  <tbody>\n",
       "    <tr>\n",
       "      <th>0</th>\n",
       "      <td>Afghanistan</td>\n",
       "      <td>Agricultural Products</td>\n",
       "      <td>NaN</td>\n",
       "      <td>698943.0</td>\n",
       "      <td>NaN</td>\n",
       "      <td>2909901.0</td>\n",
       "    </tr>\n",
       "    <tr>\n",
       "      <th>1</th>\n",
       "      <td>Afghanistan</td>\n",
       "      <td>Alcoholic Beverages</td>\n",
       "      <td>0.0</td>\n",
       "      <td>2.0</td>\n",
       "      <td>893.0</td>\n",
       "      <td>4293.0</td>\n",
       "    </tr>\n",
       "    <tr>\n",
       "      <th>2</th>\n",
       "      <td>Afghanistan</td>\n",
       "      <td>Almonds, in shell</td>\n",
       "      <td>2546.0</td>\n",
       "      <td>6830.0</td>\n",
       "      <td>1780.0</td>\n",
       "      <td>7526.0</td>\n",
       "    </tr>\n",
       "    <tr>\n",
       "      <th>3</th>\n",
       "      <td>Afghanistan</td>\n",
       "      <td>Almonds, shelled</td>\n",
       "      <td>4123.0</td>\n",
       "      <td>24419.0</td>\n",
       "      <td>2860.0</td>\n",
       "      <td>17865.0</td>\n",
       "    </tr>\n",
       "    <tr>\n",
       "      <th>4</th>\n",
       "      <td>Afghanistan</td>\n",
       "      <td>Animal Fats and Oils (excl. Butter)</td>\n",
       "      <td>0.0</td>\n",
       "      <td>0.0</td>\n",
       "      <td>3090.0</td>\n",
       "      <td>3854.0</td>\n",
       "    </tr>\n",
       "  </tbody>\n",
       "</table>\n",
       "</div>"
      ],
      "text/plain": [
       "Element         Area                                 Item  Export Quantity  \\\n",
       "0        Afghanistan                Agricultural Products              NaN   \n",
       "1        Afghanistan                  Alcoholic Beverages              0.0   \n",
       "2        Afghanistan                    Almonds, in shell           2546.0   \n",
       "3        Afghanistan                     Almonds, shelled           4123.0   \n",
       "4        Afghanistan  Animal Fats and Oils (excl. Butter)              0.0   \n",
       "\n",
       "Element  Export Value  Import Quantity  Import Value  \n",
       "0            698943.0              NaN     2909901.0  \n",
       "1                 2.0            893.0        4293.0  \n",
       "2              6830.0           1780.0        7526.0  \n",
       "3             24419.0           2860.0       17865.0  \n",
       "4                 0.0           3090.0        3854.0  "
      ]
     },
     "execution_count": 3,
     "metadata": {},
     "output_type": "execute_result"
    }
   ],
   "source": [
    "pivot = trade.pivot_table('Y2020', ['Area','Item'], 'Element') #selecting the required variables using pivot table\n",
    "trade_pivot = pivot.reset_index()\n",
    "trade_pivot.head()\n"
   ]
  },
  {
   "cell_type": "code",
   "execution_count": 4,
   "id": "28e07b5f",
   "metadata": {},
   "outputs": [
    {
     "data": {
      "text/html": [
       "<div>\n",
       "<style scoped>\n",
       "    .dataframe tbody tr th:only-of-type {\n",
       "        vertical-align: middle;\n",
       "    }\n",
       "\n",
       "    .dataframe tbody tr th {\n",
       "        vertical-align: top;\n",
       "    }\n",
       "\n",
       "    .dataframe thead th {\n",
       "        text-align: right;\n",
       "    }\n",
       "</style>\n",
       "<table border=\"1\" class=\"dataframe\">\n",
       "  <thead>\n",
       "    <tr style=\"text-align: right;\">\n",
       "      <th>Element</th>\n",
       "      <th>Area</th>\n",
       "      <th>Item</th>\n",
       "      <th>Export Quantity</th>\n",
       "      <th>Export Value</th>\n",
       "      <th>Import Quantity</th>\n",
       "      <th>Import Value</th>\n",
       "    </tr>\n",
       "  </thead>\n",
       "  <tbody>\n",
       "    <tr>\n",
       "      <th>0</th>\n",
       "      <td>Afghanistan</td>\n",
       "      <td>Cereals</td>\n",
       "      <td>9041.0</td>\n",
       "      <td>1934.0</td>\n",
       "      <td>897723.000000</td>\n",
       "      <td>296479.0</td>\n",
       "    </tr>\n",
       "    <tr>\n",
       "      <th>1</th>\n",
       "      <td>Afghanistan</td>\n",
       "      <td>Dairy Products and Eggs</td>\n",
       "      <td>NaN</td>\n",
       "      <td>14.0</td>\n",
       "      <td>NaN</td>\n",
       "      <td>84282.0</td>\n",
       "    </tr>\n",
       "    <tr>\n",
       "      <th>2</th>\n",
       "      <td>Afghanistan</td>\n",
       "      <td>Fruit and Vegetables</td>\n",
       "      <td>NaN</td>\n",
       "      <td>542902.0</td>\n",
       "      <td>NaN</td>\n",
       "      <td>375921.0</td>\n",
       "    </tr>\n",
       "    <tr>\n",
       "      <th>3</th>\n",
       "      <td>Afghanistan</td>\n",
       "      <td>Other food</td>\n",
       "      <td>13179.5</td>\n",
       "      <td>83710.0</td>\n",
       "      <td>41706.666667</td>\n",
       "      <td>166601.0</td>\n",
       "    </tr>\n",
       "    <tr>\n",
       "      <th>4</th>\n",
       "      <td>Afghanistan</td>\n",
       "      <td>Pulses</td>\n",
       "      <td>102768.0</td>\n",
       "      <td>55913.0</td>\n",
       "      <td>113702.000000</td>\n",
       "      <td>95947.0</td>\n",
       "    </tr>\n",
       "  </tbody>\n",
       "</table>\n",
       "</div>"
      ],
      "text/plain": [
       "Element         Area                     Item  Export Quantity  Export Value  \\\n",
       "0        Afghanistan                  Cereals           9041.0        1934.0   \n",
       "1        Afghanistan  Dairy Products and Eggs              NaN          14.0   \n",
       "2        Afghanistan     Fruit and Vegetables              NaN      542902.0   \n",
       "3        Afghanistan               Other food          13179.5       83710.0   \n",
       "4        Afghanistan                   Pulses         102768.0       55913.0   \n",
       "\n",
       "Element  Import Quantity  Import Value  \n",
       "0          897723.000000      296479.0  \n",
       "1                    NaN       84282.0  \n",
       "2                    NaN      375921.0  \n",
       "3           41706.666667      166601.0  \n",
       "4          113702.000000       95947.0  "
      ]
     },
     "execution_count": 4,
     "metadata": {},
     "output_type": "execute_result"
    }
   ],
   "source": [
    "pivot = tr.pivot_table('Value', ['Area','Item'], 'Element') #selecting the required variables using pivot table\n",
    "tr_pivot = pivot.reset_index()\n",
    "tr_pivot.head()"
   ]
  },
  {
   "cell_type": "markdown",
   "id": "3a020623",
   "metadata": {},
   "source": [
    "# Adding continents to the countries \n"
   ]
  },
  {
   "cell_type": "code",
   "execution_count": 5,
   "id": "b4aa8c02",
   "metadata": {},
   "outputs": [],
   "source": [
    "\n",
    "north_america = ['Canada', 'United States of America','Antigua and Barbuda', 'Bahamas', 'Barbados', 'Cuba', 'Dominica',\n",
    "       'Dominican Republic', 'Grenada', 'Guadeloupe', 'Haiti', 'Jamaica',\n",
    "       'Martinique', 'Puerto Rico', 'Saint Kitts and Nevis',\n",
    "       'Saint Lucia', 'Saint Vincent and the Grenadines',\n",
    "       'Trinidad and Tobago']\n",
    "south_america = ['Argentina', 'Bolivia (Plurinational State of)', 'Brazil', 'Chile',\n",
    "       'Colombia', 'Ecuador', 'French Guyana', 'Guyana', 'Paraguay',\n",
    "       'Peru', 'Suriname', 'Uruguay',\n",
    "       'Venezuela (Bolivarian Republic of)','Belize', 'Costa Rica', 'El Salvador', 'Guatemala', 'Honduras',\n",
    "       'Mexico', 'Nicaragua', 'Panama']\n",
    "\n",
    "\n",
    "north_africa = ['Algeria', 'Egypt', 'Libya', 'Morocco', 'Sudan', 'Sudan (former)',\n",
    "       'Tunisia','Botswana', 'Eswatini', 'Lesotho', 'Namibia', 'South Africa','Burundi', 'Comoros', 'Djibouti', 'Eritrea', 'Ethiopia',\n",
    "       'Ethiopia PDR', 'Kenya', 'Madagascar', 'Malawi', 'Mauritius',\n",
    "       'Mozambique', 'Réunion', 'Rwanda', 'Seychelles', 'Somalia',\n",
    "       'South Sudan', 'Uganda', 'United Republic of Tanzania', 'Zambia',\n",
    "       'Zimbabwe','Benin', 'Burkina Faso', 'Cabo Verde', \"Côte d'Ivoire\", 'Gambia',\n",
    "       'Ghana', 'Guinea', 'Guinea-Bissau', 'Liberia', 'Mali',\n",
    "       'Mauritania', 'Niger', 'Nigeria', 'Senegal', 'Sierra Leone',\n",
    "       'Togo','Angola', 'Cameroon', 'Central African Republic', 'Chad', 'Congo',\n",
    "       'Democratic Republic of the Congo', 'Equatorial Guinea', 'Gabon',\n",
    "       'Sao Tome and Principe']\n",
    "\n",
    "east_asia = ['China, Hong Kong SAR', 'China, Macao SAR', 'China, mainland',\n",
    "       'China, Taiwan Province of',\n",
    "       \"Democratic People's Republic of Korea\", 'Japan', 'Mongolia',\n",
    "       'Republic of Korea']\n",
    "west_asia = ['Armenia', 'Azerbaijan', 'Bahrain', 'Cyprus', 'Georgia', 'Iraq',\n",
    "       'Israel', 'Jordan', 'Kuwait', 'Lebanon', 'Oman', 'Palestine',\n",
    "       'Qatar', 'Saudi Arabia', 'Syrian Arab Republic', 'Türkiye',\n",
    "       'United Arab Emirates', 'Yemen']\n",
    "central_asia = ['Kazakhstan', 'Kyrgyzstan', 'Tajikistan', 'Turkmenistan',\n",
    "       'Uzbekistan']\n",
    "south_asia = ['Afghanistan', 'Bangladesh', 'Bhutan', 'India',\n",
    "       'Iran (Islamic Republic of)', 'Maldives', 'Nepal', 'Pakistan',\n",
    "       'Sri Lanka']\n",
    "south_east_asia = ['Brunei Darussalam', 'Cambodia', 'Indonesia',\n",
    "       \"Lao People's Democratic Republic\", 'Malaysia', 'Myanmar',\n",
    "       'Philippines', 'Singapore', 'Thailand', 'Timor-Leste', 'Viet Nam']\n",
    "\n",
    "\n",
    "east_europe = ['Belarus', 'Bulgaria', 'Czechia', 'Czechoslovakia', 'Hungary',\n",
    "       'Poland', 'Republic of Moldova', 'Romania', 'Russian Federation',\n",
    "       'Slovakia', 'Ukraine', 'USSR']\n",
    "west_europe = ['Austria', 'Belgium', 'Belgium-Luxembourg', 'France', 'Germany',\n",
    "       'Luxembourg', 'Netherlands', 'Switzerland']\n",
    "north_europe = ['Denmark', 'Estonia', 'Faroe Islands', 'Finland', 'Iceland',\n",
    "       'Ireland', 'Latvia', 'Lithuania', 'Norway', 'Sweden',\n",
    "       'United Kingdom of Great Britain and Northern Ireland']\n",
    "south_europe = ['Albania', 'Bosnia and Herzegovina', 'Croatia', 'Greece', 'Italy',\n",
    "       'Malta', 'Montenegro', 'North Macedonia', 'Portugal', 'Serbia',\n",
    "       'Serbia and Montenegro', 'Slovenia', 'Spain', 'Yugoslav SFR']\n",
    "\n",
    "oceania = ['Cook Islands', 'Fiji', 'French Polynesia',\n",
    "       'Kiribati', 'Marshall Islands', 'Micronesia (Federated States of)',\n",
    "       'Nauru', 'New Caledonia', 'Niue',\n",
    "       'Papua New Guinea', 'Samoa', 'Solomon Islands', 'Tokelau', 'Tonga',\n",
    "       'Tuvalu', 'Vanuatu','Kiribati', 'Marshall Islands', 'Micronesia (Federated States of)',\n",
    "       'Nauru','Fiji', 'New Caledonia', 'Papua New Guinea', 'Solomon Islands',\n",
    "       'Vanuatu','Australia', 'New Zealand']"
   ]
  },
  {
   "cell_type": "code",
   "execution_count": 6,
   "id": "63363dbd",
   "metadata": {},
   "outputs": [],
   "source": [
    "def GetConti(counry):\n",
    "    if counry in east_asia or counry in west_asia or counry in south_asia or counry in central_asia or counry in south_east_asia:\n",
    "        return \"Asia\"\n",
    "    elif counry in east_europe or counry in west_europe or counry in north_europe or counry in south_europe:\n",
    "        return \"Europe\"\n",
    "    elif counry in north_africa:\n",
    "        return \"Africa\"\n",
    "    elif counry in north_america:\n",
    "        return \"North America\"\n",
    "    elif counry in south_america:\n",
    "        return \"South America\"\n",
    "    else:\n",
    "        return \"Oceania\""
   ]
  },
  {
   "cell_type": "code",
   "execution_count": 7,
   "id": "c5f01d37",
   "metadata": {},
   "outputs": [],
   "source": [
    "trade_pivot['Regions'] = trade_pivot['Area'].apply(lambda x: GetConti(x)) # Calling the function and appending the continents(Regions)\n",
    "\n",
    "tr_pivot['Regions'] = tr_pivot['Area'].apply(lambda x: GetConti(x))\n",
    "\n"
   ]
  },
  {
   "cell_type": "code",
   "execution_count": 58,
   "id": "2c844a90",
   "metadata": {},
   "outputs": [],
   "source": [
    "trade_clean = trade_pivot.fillna(0) #Replacing the null values with 0\n",
    "tr_clean = tr_pivot.fillna(0) #Replacing the null values with 0\n",
    "trade_clean['Export Quantity'] = trade_clean['Export Quantity']/1000000\n",
    "trade_clean['Import Quantity'] = trade_clean['Import Quantity']/1000000\n",
    "trade_clean['Export Value'] = trade_clean['Export Value']/1000000\n",
    "trade_clean['Import Value'] = trade_clean['Import Value']/1000000\n"
   ]
  },
  {
   "cell_type": "code",
   "execution_count": 59,
   "id": "8ad94a37",
   "metadata": {},
   "outputs": [
    {
     "data": {
      "text/html": [
       "<div>\n",
       "<style scoped>\n",
       "    .dataframe tbody tr th:only-of-type {\n",
       "        vertical-align: middle;\n",
       "    }\n",
       "\n",
       "    .dataframe tbody tr th {\n",
       "        vertical-align: top;\n",
       "    }\n",
       "\n",
       "    .dataframe thead th {\n",
       "        text-align: right;\n",
       "    }\n",
       "</style>\n",
       "<table border=\"1\" class=\"dataframe\">\n",
       "  <thead>\n",
       "    <tr style=\"text-align: right;\">\n",
       "      <th>Item</th>\n",
       "      <th>Area</th>\n",
       "      <th>Element</th>\n",
       "      <th>Cereals</th>\n",
       "      <th>Dairy Products and Eggs</th>\n",
       "      <th>Fruit and Vegetables</th>\n",
       "      <th>Other food</th>\n",
       "      <th>Pulses</th>\n",
       "      <th>Vegetable Oil and Fat</th>\n",
       "    </tr>\n",
       "  </thead>\n",
       "  <tbody>\n",
       "    <tr>\n",
       "      <th>0</th>\n",
       "      <td>Afghanistan</td>\n",
       "      <td>Export Quantity</td>\n",
       "      <td>9041.0</td>\n",
       "      <td>NaN</td>\n",
       "      <td>NaN</td>\n",
       "      <td>13179.500000</td>\n",
       "      <td>102768.0</td>\n",
       "      <td>175.0</td>\n",
       "    </tr>\n",
       "    <tr>\n",
       "      <th>1</th>\n",
       "      <td>Afghanistan</td>\n",
       "      <td>Export Value</td>\n",
       "      <td>1934.0</td>\n",
       "      <td>14.0</td>\n",
       "      <td>542902.0</td>\n",
       "      <td>83710.000000</td>\n",
       "      <td>55913.0</td>\n",
       "      <td>219.0</td>\n",
       "    </tr>\n",
       "    <tr>\n",
       "      <th>2</th>\n",
       "      <td>Afghanistan</td>\n",
       "      <td>Import Quantity</td>\n",
       "      <td>897723.0</td>\n",
       "      <td>NaN</td>\n",
       "      <td>NaN</td>\n",
       "      <td>41706.666667</td>\n",
       "      <td>113702.0</td>\n",
       "      <td>330141.0</td>\n",
       "    </tr>\n",
       "    <tr>\n",
       "      <th>3</th>\n",
       "      <td>Afghanistan</td>\n",
       "      <td>Import Value</td>\n",
       "      <td>296479.0</td>\n",
       "      <td>84282.0</td>\n",
       "      <td>375921.0</td>\n",
       "      <td>166601.000000</td>\n",
       "      <td>95947.0</td>\n",
       "      <td>320740.0</td>\n",
       "    </tr>\n",
       "    <tr>\n",
       "      <th>4</th>\n",
       "      <td>Albania</td>\n",
       "      <td>Export Quantity</td>\n",
       "      <td>NaN</td>\n",
       "      <td>NaN</td>\n",
       "      <td>NaN</td>\n",
       "      <td>73.000000</td>\n",
       "      <td>NaN</td>\n",
       "      <td>16.0</td>\n",
       "    </tr>\n",
       "  </tbody>\n",
       "</table>\n",
       "</div>"
      ],
      "text/plain": [
       "Item         Area          Element   Cereals  Dairy Products and Eggs  \\\n",
       "0     Afghanistan  Export Quantity    9041.0                      NaN   \n",
       "1     Afghanistan     Export Value    1934.0                     14.0   \n",
       "2     Afghanistan  Import Quantity  897723.0                      NaN   \n",
       "3     Afghanistan     Import Value  296479.0                  84282.0   \n",
       "4         Albania  Export Quantity       NaN                      NaN   \n",
       "\n",
       "Item  Fruit and Vegetables     Other food    Pulses  Vegetable Oil and Fat  \n",
       "0                      NaN   13179.500000  102768.0                  175.0  \n",
       "1                 542902.0   83710.000000   55913.0                  219.0  \n",
       "2                      NaN   41706.666667  113702.0               330141.0  \n",
       "3                 375921.0  166601.000000   95947.0               320740.0  \n",
       "4                      NaN      73.000000       NaN                   16.0  "
      ]
     },
     "execution_count": 59,
     "metadata": {},
     "output_type": "execute_result"
    }
   ],
   "source": [
    "pivot = tr.pivot_table('Value', ['Area','Element'], ['Item']) #selecting the required variables using pivot table\n",
    "trpivot = pivot.reset_index()\n",
    "trpivot.head()"
   ]
  },
  {
   "cell_type": "code",
   "execution_count": 60,
   "id": "ca6d00d4",
   "metadata": {},
   "outputs": [],
   "source": [
    "trpivot['Regions'] = trpivot['Area'].apply(lambda x: GetConti(x))\n",
    "trclean = trpivot.fillna(0)\n",
    "\n"
   ]
  },
  {
   "cell_type": "code",
   "execution_count": 61,
   "id": "cb91dc08",
   "metadata": {},
   "outputs": [],
   "source": [
    "trade_clean['Net_trade'] = trade_clean['Export Value'] - trade_clean['Import Value']"
   ]
  },
  {
   "cell_type": "markdown",
   "id": "29b61e34",
   "metadata": {},
   "source": [
    "# Trade Data Visualization"
   ]
  },
  {
   "cell_type": "code",
   "execution_count": 62,
   "id": "d3f2a5db",
   "metadata": {},
   "outputs": [],
   "source": [
    "import panel as pn\n",
    "import hvplot.pandas \n"
   ]
  },
  {
   "cell_type": "markdown",
   "id": "3ed64bc7",
   "metadata": {},
   "source": [
    "## Interactive Design using Panel  "
   ]
  },
  {
   "cell_type": "code",
   "execution_count": 63,
   "id": "82c94a0b",
   "metadata": {},
   "outputs": [],
   "source": [
    "idf = trade_clean.interactive()"
   ]
  },
  {
   "cell_type": "code",
   "execution_count": 64,
   "id": "dcbdd5f1",
   "metadata": {},
   "outputs": [
    {
     "data": {
      "text/html": [
       "<div>\n",
       "<style scoped>\n",
       "    .dataframe tbody tr th:only-of-type {\n",
       "        vertical-align: middle;\n",
       "    }\n",
       "\n",
       "    .dataframe tbody tr th {\n",
       "        vertical-align: top;\n",
       "    }\n",
       "\n",
       "    .dataframe thead th {\n",
       "        text-align: right;\n",
       "    }\n",
       "</style>\n",
       "<table border=\"1\" class=\"dataframe\">\n",
       "  <thead>\n",
       "    <tr style=\"text-align: right;\">\n",
       "      <th>Element</th>\n",
       "      <th>Area</th>\n",
       "      <th>Item</th>\n",
       "      <th>Export Quantity</th>\n",
       "      <th>Export Value</th>\n",
       "      <th>Import Quantity</th>\n",
       "      <th>Import Value</th>\n",
       "      <th>Regions</th>\n",
       "      <th>Net_trade</th>\n",
       "    </tr>\n",
       "  </thead>\n",
       "  <tbody>\n",
       "    <tr>\n",
       "      <th>0</th>\n",
       "      <td>Afghanistan</td>\n",
       "      <td>Agricultural Products</td>\n",
       "      <td>0.000000</td>\n",
       "      <td>0.698943</td>\n",
       "      <td>0.000000</td>\n",
       "      <td>2.909901</td>\n",
       "      <td>Asia</td>\n",
       "      <td>-2.210958</td>\n",
       "    </tr>\n",
       "    <tr>\n",
       "      <th>1</th>\n",
       "      <td>Afghanistan</td>\n",
       "      <td>Alcoholic Beverages</td>\n",
       "      <td>0.000000</td>\n",
       "      <td>0.000002</td>\n",
       "      <td>0.000893</td>\n",
       "      <td>0.004293</td>\n",
       "      <td>Asia</td>\n",
       "      <td>-0.004291</td>\n",
       "    </tr>\n",
       "    <tr>\n",
       "      <th>2</th>\n",
       "      <td>Afghanistan</td>\n",
       "      <td>Almonds, in shell</td>\n",
       "      <td>0.002546</td>\n",
       "      <td>0.006830</td>\n",
       "      <td>0.001780</td>\n",
       "      <td>0.007526</td>\n",
       "      <td>Asia</td>\n",
       "      <td>-0.000696</td>\n",
       "    </tr>\n",
       "    <tr>\n",
       "      <th>3</th>\n",
       "      <td>Afghanistan</td>\n",
       "      <td>Almonds, shelled</td>\n",
       "      <td>0.004123</td>\n",
       "      <td>0.024419</td>\n",
       "      <td>0.002860</td>\n",
       "      <td>0.017865</td>\n",
       "      <td>Asia</td>\n",
       "      <td>0.006554</td>\n",
       "    </tr>\n",
       "    <tr>\n",
       "      <th>4</th>\n",
       "      <td>Afghanistan</td>\n",
       "      <td>Animal Fats and Oils (excl. Butter)</td>\n",
       "      <td>0.000000</td>\n",
       "      <td>0.000000</td>\n",
       "      <td>0.003090</td>\n",
       "      <td>0.003854</td>\n",
       "      <td>Asia</td>\n",
       "      <td>-0.003854</td>\n",
       "    </tr>\n",
       "    <tr>\n",
       "      <th>...</th>\n",
       "      <td>...</td>\n",
       "      <td>...</td>\n",
       "      <td>...</td>\n",
       "      <td>...</td>\n",
       "      <td>...</td>\n",
       "      <td>...</td>\n",
       "      <td>...</td>\n",
       "      <td>...</td>\n",
       "    </tr>\n",
       "    <tr>\n",
       "      <th>63706</th>\n",
       "      <td>Zimbabwe</td>\n",
       "      <td>Other tropical fruits, n.e.c.</td>\n",
       "      <td>0.000000</td>\n",
       "      <td>0.000000</td>\n",
       "      <td>0.000000</td>\n",
       "      <td>0.000000</td>\n",
       "      <td>Africa</td>\n",
       "      <td>0.000000</td>\n",
       "    </tr>\n",
       "    <tr>\n",
       "      <th>63707</th>\n",
       "      <td>Zimbabwe</td>\n",
       "      <td>Poppy seed</td>\n",
       "      <td>0.000000</td>\n",
       "      <td>0.000000</td>\n",
       "      <td>0.000000</td>\n",
       "      <td>0.000002</td>\n",
       "      <td>Africa</td>\n",
       "      <td>-0.000002</td>\n",
       "    </tr>\n",
       "    <tr>\n",
       "      <th>63708</th>\n",
       "      <td>Zimbabwe</td>\n",
       "      <td>Bambara beans, dry</td>\n",
       "      <td>0.000001</td>\n",
       "      <td>0.000000</td>\n",
       "      <td>0.000019</td>\n",
       "      <td>0.000010</td>\n",
       "      <td>Africa</td>\n",
       "      <td>-0.000010</td>\n",
       "    </tr>\n",
       "    <tr>\n",
       "      <th>63709</th>\n",
       "      <td>Zimbabwe</td>\n",
       "      <td>Rabbits and hares</td>\n",
       "      <td>0.000000</td>\n",
       "      <td>0.000000</td>\n",
       "      <td>0.000002</td>\n",
       "      <td>0.000004</td>\n",
       "      <td>Africa</td>\n",
       "      <td>-0.000004</td>\n",
       "    </tr>\n",
       "    <tr>\n",
       "      <th>63710</th>\n",
       "      <td>Zimbabwe</td>\n",
       "      <td>Ducks</td>\n",
       "      <td>0.000000</td>\n",
       "      <td>0.000000</td>\n",
       "      <td>0.000000</td>\n",
       "      <td>0.000000</td>\n",
       "      <td>Africa</td>\n",
       "      <td>0.000000</td>\n",
       "    </tr>\n",
       "  </tbody>\n",
       "</table>\n",
       "<p>63711 rows × 8 columns</p>\n",
       "</div>"
      ],
      "text/plain": [
       "Element         Area                                 Item  Export Quantity  \\\n",
       "0        Afghanistan                Agricultural Products         0.000000   \n",
       "1        Afghanistan                  Alcoholic Beverages         0.000000   \n",
       "2        Afghanistan                    Almonds, in shell         0.002546   \n",
       "3        Afghanistan                     Almonds, shelled         0.004123   \n",
       "4        Afghanistan  Animal Fats and Oils (excl. Butter)         0.000000   \n",
       "...              ...                                  ...              ...   \n",
       "63706       Zimbabwe        Other tropical fruits, n.e.c.         0.000000   \n",
       "63707       Zimbabwe                           Poppy seed         0.000000   \n",
       "63708       Zimbabwe                   Bambara beans, dry         0.000001   \n",
       "63709       Zimbabwe                    Rabbits and hares         0.000000   \n",
       "63710       Zimbabwe                                Ducks         0.000000   \n",
       "\n",
       "Element  Export Value  Import Quantity  Import Value Regions  Net_trade  \n",
       "0            0.698943         0.000000      2.909901    Asia  -2.210958  \n",
       "1            0.000002         0.000893      0.004293    Asia  -0.004291  \n",
       "2            0.006830         0.001780      0.007526    Asia  -0.000696  \n",
       "3            0.024419         0.002860      0.017865    Asia   0.006554  \n",
       "4            0.000000         0.003090      0.003854    Asia  -0.003854  \n",
       "...               ...              ...           ...     ...        ...  \n",
       "63706        0.000000         0.000000      0.000000  Africa   0.000000  \n",
       "63707        0.000000         0.000000      0.000002  Africa  -0.000002  \n",
       "63708        0.000000         0.000019      0.000010  Africa  -0.000010  \n",
       "63709        0.000000         0.000002      0.000004  Africa  -0.000004  \n",
       "63710        0.000000         0.000000      0.000000  Africa   0.000000  \n",
       "\n",
       "[63711 rows x 8 columns]"
      ]
     },
     "execution_count": 64,
     "metadata": {},
     "output_type": "execute_result"
    }
   ],
   "source": [
    "trade_clean"
   ]
  },
  {
   "cell_type": "markdown",
   "id": "b33906de",
   "metadata": {},
   "source": [
    "#### Function for visualization of Import and Export parameters"
   ]
  },
  {
   "cell_type": "code",
   "execution_count": 65,
   "id": "9201709e",
   "metadata": {},
   "outputs": [],
   "source": [
    "def Trade_fxn(c,d,lab): #two positional arguments c for Y axis input and d for kind of graph (ex: line,bar,scatter)\n",
    "    \n",
    "    yaxis_col = pn.widgets.RadioButtonGroup( name='Y axis', \n",
    "     options=c,\n",
    "    button_type='success'\n",
    "    )   #creating widgets for graphs and visualization\n",
    "    \n",
    "    continents = ['Asia', 'Europe', 'Africa', 'North America', 'South America','Oceania']\n",
    "    data_pipeline = (\n",
    "        idf[   \n",
    "            (idf.Regions.isin(continents)) \n",
    "        ]\n",
    "        .groupby(['Regions'])[yaxis_col].sum()\n",
    "        .to_frame()\n",
    "        .reset_index() \n",
    "    ) #Data pipeline - Attaching the related data \n",
    "    \n",
    "    #plotting the graph using hvplot \n",
    "    \n",
    "    trade_plot = data_pipeline.hvplot(x = 'Regions', y=yaxis_col ,kind = d, rot =45,\n",
    "                        \n",
    "                            color=(\"#fd7f6f\"),ylabel = lab,width=600)\n",
    "    return trade_plot\n",
    "\n"
   ]
  },
  {
   "cell_type": "code",
   "execution_count": 66,
   "id": "44bb46b3",
   "metadata": {},
   "outputs": [],
   "source": [
    "d = Trade_fxn(['Export Quantity'],'bar','Trade in Tonnes') #calling the function by using variables in list format. Variables = Import Value','Export Value','Import Quantity','Export Quantity'\n",
    "e = Trade_fxn(['Export Value'],'bar','Trade in 1000 USD') #calling the function by using variables in list format. Variables = Import Value','Export Value','Import Quantity','Export Quantity'\n"
   ]
  },
  {
   "cell_type": "markdown",
   "id": "28b73901",
   "metadata": {},
   "source": [
    "                               Graph 4.1 Imports and Exports of Agriculture products"
   ]
  },
  {
   "cell_type": "markdown",
   "id": "02b5f7f6",
   "metadata": {},
   "source": [
    "#### Data Visualization by Trade Categories across continents"
   ]
  },
  {
   "cell_type": "code",
   "execution_count": 67,
   "id": "98c8e5aa",
   "metadata": {},
   "outputs": [],
   "source": [
    "idfs = trclean.interactive()"
   ]
  },
  {
   "cell_type": "code",
   "execution_count": 68,
   "id": "143e9327",
   "metadata": {},
   "outputs": [],
   "source": [
    "def items_fxn(items,graph):\n",
    "    yaxis_col = pn.widgets.Select(name='Category', options=items)\n",
    "    trade = ['Import Quantity','Import Value','Export Quantity','Export Value']\n",
    "\n",
    "    data_pipeline = (\n",
    "        idfs[   \n",
    "            (idfs.Element.isin(trade)) \n",
    "        ]\n",
    "        .groupby(['Element','Regions'])[yaxis_col].sum()\n",
    "        .to_frame()\n",
    "        .reset_index() \n",
    "    )\n",
    "    data_plot = data_pipeline.hvplot(x = 'Element', by = 'Regions', y=yaxis_col ,alpha = 13,kind = graph,\n",
    "                                     title=\"Trade parameters in a category  \",height=500,grid=True,\n",
    "                                     color=(['#10a735','#118fa4','#ffa600','#13b6da','#bc5090','#ff6361']),invert = True)\n",
    "    \n",
    "    return data_plot"
   ]
  },
  {
   "cell_type": "code",
   "execution_count": 69,
   "id": "b3b94144",
   "metadata": {},
   "outputs": [],
   "source": [
    "a =items_fxn(['Cereals','Other food','Pulses','Vegetable Oil and Fat'],'bar')\n",
    "b =items_fxn(['Other food','Pulses','Vegetable Oil and Fat'],'bar')"
   ]
  },
  {
   "cell_type": "code",
   "execution_count": 70,
   "id": "ab910c91",
   "metadata": {},
   "outputs": [
    {
     "data": {},
     "metadata": {},
     "output_type": "display_data"
    },
    {
     "data": {},
     "metadata": {},
     "output_type": "display_data"
    },
    {
     "data": {
      "application/vnd.holoviews_exec.v0+json": "",
      "text/html": [
       "<div id='1943'>\n",
       "\n",
       "\n",
       "\n",
       "\n",
       "\n",
       "  <div class=\"bk-root\" id=\"090a5513-2365-4e46-9b8f-e6b86e2f4c40\" data-root-id=\"1943\"></div>\n",
       "</div>\n",
       "<script type=\"application/javascript\">(function(root) {\n",
       "  function embed_document(root) {\n",
       "    var docs_json = {\"714130a6-8457-48fa-bbae-dbf63da4d28b\":{\"defs\":[{\"extends\":null,\"module\":null,\"name\":\"ReactiveHTML1\",\"overrides\":[],\"properties\":[]},{\"extends\":null,\"module\":null,\"name\":\"FlexBox1\",\"overrides\":[],\"properties\":[{\"default\":\"flex-start\",\"kind\":null,\"name\":\"align_content\"},{\"default\":\"flex-start\",\"kind\":null,\"name\":\"align_items\"},{\"default\":\"row\",\"kind\":null,\"name\":\"flex_direction\"},{\"default\":\"wrap\",\"kind\":null,\"name\":\"flex_wrap\"},{\"default\":\"flex-start\",\"kind\":null,\"name\":\"justify_content\"}]},{\"extends\":null,\"module\":null,\"name\":\"GridStack1\",\"overrides\":[],\"properties\":[{\"default\":\"warn\",\"kind\":null,\"name\":\"mode\"},{\"default\":null,\"kind\":null,\"name\":\"ncols\"},{\"default\":null,\"kind\":null,\"name\":\"nrows\"},{\"default\":true,\"kind\":null,\"name\":\"allow_resize\"},{\"default\":true,\"kind\":null,\"name\":\"allow_drag\"},{\"default\":[],\"kind\":null,\"name\":\"state\"}]},{\"extends\":null,\"module\":null,\"name\":\"click1\",\"overrides\":[],\"properties\":[{\"default\":\"\",\"kind\":null,\"name\":\"terminal_output\"},{\"default\":\"\",\"kind\":null,\"name\":\"debug_name\"},{\"default\":0,\"kind\":null,\"name\":\"clears\"}]},{\"extends\":null,\"module\":null,\"name\":\"TemplateActions1\",\"overrides\":[],\"properties\":[{\"default\":0,\"kind\":null,\"name\":\"open_modal\"},{\"default\":0,\"kind\":null,\"name\":\"close_modal\"}]},{\"extends\":null,\"module\":null,\"name\":\"MaterialTemplateActions1\",\"overrides\":[],\"properties\":[{\"default\":0,\"kind\":null,\"name\":\"open_modal\"},{\"default\":0,\"kind\":null,\"name\":\"close_modal\"}]}],\"roots\":{\"references\":[{\"attributes\":{\"data\":{\"Export_Value\":{\"__ndarray__\":\"wqONI9ZqhEC8d9SYnn/BQLRaYI9vVMNABfcDHvgfpkAAWB05RiyxQBIWFXE6WJ9A\",\"dtype\":\"float64\",\"order\":\"little\",\"shape\":[6]},\"Regions\":[\"Africa\",\"Asia\",\"Europe\",\"North America\",\"Oceania\",\"South America\"]},\"selected\":{\"id\":\"1983\"},\"selection_policy\":{\"id\":\"2004\"}},\"id\":\"1982\",\"type\":\"ColumnDataSource\"},{\"attributes\":{\"children\":[{\"id\":\"1947\"}],\"margin\":[0,0,0,0],\"name\":\"Column06694\"},\"id\":\"1946\",\"type\":\"Column\"},{\"attributes\":{\"factors\":[\"Africa\",\"Asia\",\"Europe\",\"North America\",\"Oceania\",\"South America\"],\"tags\":[[[\"Regions\",\"Regions\",null]]]},\"id\":\"1950\",\"type\":\"FactorRange\"},{\"attributes\":{},\"id\":\"1958\",\"type\":\"CategoricalScale\"},{\"attributes\":{\"children\":[{\"id\":\"1953\"}],\"margin\":[0,0,0,0],\"name\":\"Row06699\"},\"id\":\"1949\",\"type\":\"Row\"},{\"attributes\":{\"children\":[{\"id\":\"1946\"},{\"id\":\"1948\"}],\"margin\":[0,0,0,0],\"name\":\"Row06798\"},\"id\":\"1945\",\"type\":\"Row\"},{\"attributes\":{\"source\":{\"id\":\"1982\"}},\"id\":\"1989\",\"type\":\"CDSView\"},{\"attributes\":{\"callback\":null,\"renderers\":[{\"id\":\"1988\"}],\"tags\":[\"hv_created\"],\"tooltips\":[[\"Regions\",\"@{Regions}\"],[\"Export Value\",\"@{Export_Value}\"]]},\"id\":\"1952\",\"type\":\"HoverTool\"},{\"attributes\":{\"fill_color\":{\"value\":\"#fd7f6f\"},\"hatch_color\":{\"value\":\"#fd7f6f\"},\"top\":{\"field\":\"Export_Value\"},\"width\":{\"value\":0.8},\"x\":{\"field\":\"Regions\"}},\"id\":\"1985\",\"type\":\"VBar\"},{\"attributes\":{\"active\":0,\"button_type\":\"success\",\"labels\":[\"Export Value\"],\"margin\":[5,10,5,10]},\"id\":\"1947\",\"type\":\"RadioButtonGroup\"},{\"attributes\":{\"end\":10821.2232633,\"reset_end\":10821.2232633,\"reset_start\":0.0,\"tags\":[[[\"Export Value\",\"Export Value\",null]]]},\"id\":\"1951\",\"type\":\"Range1d\"},{\"attributes\":{\"coordinates\":null,\"group\":null,\"text_color\":\"black\",\"text_font_size\":\"12pt\"},\"id\":\"1954\",\"type\":\"Title\"},{\"attributes\":{\"bottom\":{\"value\":0},\"fill_alpha\":{\"value\":1.0},\"fill_color\":{\"value\":\"#fd7f6f\"},\"hatch_alpha\":{\"value\":1.0},\"hatch_color\":{\"value\":\"#fd7f6f\"},\"hatch_scale\":{\"value\":12.0},\"hatch_weight\":{\"value\":1.0},\"line_alpha\":{\"value\":1.0},\"line_cap\":{\"value\":\"butt\"},\"line_color\":{\"value\":\"black\"},\"line_dash\":{\"value\":[]},\"line_dash_offset\":{\"value\":0},\"line_join\":{\"value\":\"bevel\"},\"line_width\":{\"value\":1},\"top\":{\"field\":\"Export_Value\"},\"width\":{\"value\":0.8},\"x\":{\"field\":\"Regions\"}},\"id\":\"1990\",\"type\":\"VBar\"},{\"attributes\":{\"below\":[{\"id\":\"1962\"}],\"center\":[{\"id\":\"1964\"},{\"id\":\"1968\"}],\"height\":300,\"left\":[{\"id\":\"1965\"}],\"margin\":[5,5,5,5],\"min_border_bottom\":10,\"min_border_left\":10,\"min_border_right\":10,\"min_border_top\":10,\"renderers\":[{\"id\":\"1988\"}],\"sizing_mode\":\"fixed\",\"title\":{\"id\":\"1954\"},\"toolbar\":{\"id\":\"1975\"},\"x_range\":{\"id\":\"1950\"},\"x_scale\":{\"id\":\"1958\"},\"y_range\":{\"id\":\"1951\"},\"y_scale\":{\"id\":\"1960\"}},\"id\":\"1953\",\"subtype\":\"Figure\",\"type\":\"Plot\"},{\"attributes\":{\"axis_label\":\"Regions\",\"coordinates\":null,\"formatter\":{\"id\":\"1992\"},\"group\":null,\"major_label_orientation\":0.7853981633974483,\"major_label_policy\":{\"id\":\"1993\"},\"ticker\":{\"id\":\"1963\"}},\"id\":\"1962\",\"type\":\"CategoricalAxis\"},{\"attributes\":{},\"id\":\"1960\",\"type\":\"LinearScale\"},{\"attributes\":{\"axis\":{\"id\":\"1962\"},\"coordinates\":null,\"grid_line_color\":null,\"group\":null,\"ticker\":null},\"id\":\"1964\",\"type\":\"Grid\"},{\"attributes\":{\"client_comm_id\":\"82434f9fd5db4335af847c218bc7c0b7\",\"comm_id\":\"d3490146e90949d287b804259551960c\",\"plot_id\":\"1943\"},\"id\":\"2047\",\"type\":\"panel.models.comm_manager.CommManager\"},{\"attributes\":{\"axis\":{\"id\":\"1965\"},\"coordinates\":null,\"dimension\":1,\"grid_line_color\":null,\"group\":null,\"ticker\":null},\"id\":\"1968\",\"type\":\"Grid\"},{\"attributes\":{},\"id\":\"1992\",\"type\":\"CategoricalTickFormatter\"},{\"attributes\":{},\"id\":\"1993\",\"type\":\"AllLabels\"},{\"attributes\":{},\"id\":\"1970\",\"type\":\"PanTool\"},{\"attributes\":{},\"id\":\"1963\",\"type\":\"CategoricalTicker\"},{\"attributes\":{\"margin\":[5,5,5,5],\"name\":\"HSpacer06797\",\"sizing_mode\":\"stretch_width\"},\"id\":\"1948\",\"type\":\"Spacer\"},{\"attributes\":{\"tools\":[{\"id\":\"1952\"},{\"id\":\"1969\"},{\"id\":\"1970\"},{\"id\":\"1971\"},{\"id\":\"1972\"},{\"id\":\"1973\"}]},\"id\":\"1975\",\"type\":\"Toolbar\"},{\"attributes\":{},\"id\":\"1996\",\"type\":\"AllLabels\"},{\"attributes\":{\"axis_label\":\"Trade in 1000 USD\",\"coordinates\":null,\"formatter\":{\"id\":\"1995\"},\"group\":null,\"major_label_policy\":{\"id\":\"1996\"},\"ticker\":{\"id\":\"1966\"}},\"id\":\"1965\",\"type\":\"LinearAxis\"},{\"attributes\":{},\"id\":\"1966\",\"type\":\"BasicTicker\"},{\"attributes\":{},\"id\":\"1995\",\"type\":\"BasicTickFormatter\"},{\"attributes\":{},\"id\":\"1971\",\"type\":\"WheelZoomTool\"},{\"attributes\":{},\"id\":\"1969\",\"type\":\"SaveTool\"},{\"attributes\":{},\"id\":\"2004\",\"type\":\"UnionRenderers\"},{\"attributes\":{\"children\":[{\"id\":\"1945\"},{\"id\":\"1949\"}],\"margin\":[0,0,0,0],\"name\":\"Column06799\"},\"id\":\"1944\",\"type\":\"Column\"},{\"attributes\":{\"overlay\":{\"id\":\"1974\"}},\"id\":\"1972\",\"type\":\"BoxZoomTool\"},{\"attributes\":{},\"id\":\"1973\",\"type\":\"ResetTool\"},{\"attributes\":{\"fill_alpha\":{\"value\":0.1},\"fill_color\":{\"value\":\"#fd7f6f\"},\"hatch_alpha\":{\"value\":0.1},\"hatch_color\":{\"value\":\"#fd7f6f\"},\"line_alpha\":{\"value\":0.1},\"top\":{\"field\":\"Export_Value\"},\"width\":{\"value\":0.8},\"x\":{\"field\":\"Regions\"}},\"id\":\"1986\",\"type\":\"VBar\"},{\"attributes\":{\"bottom_units\":\"screen\",\"coordinates\":null,\"fill_alpha\":0.5,\"fill_color\":\"lightgrey\",\"group\":null,\"left_units\":\"screen\",\"level\":\"overlay\",\"line_alpha\":1.0,\"line_color\":\"black\",\"line_dash\":[4,4],\"line_width\":2,\"right_units\":\"screen\",\"syncable\":false,\"top_units\":\"screen\"},\"id\":\"1974\",\"type\":\"BoxAnnotation\"},{\"attributes\":{\"coordinates\":null,\"data_source\":{\"id\":\"1982\"},\"glyph\":{\"id\":\"1985\"},\"group\":null,\"hover_glyph\":null,\"muted_glyph\":{\"id\":\"1987\"},\"nonselection_glyph\":{\"id\":\"1986\"},\"selection_glyph\":{\"id\":\"1990\"},\"view\":{\"id\":\"1989\"}},\"id\":\"1988\",\"type\":\"GlyphRenderer\"},{\"attributes\":{\"children\":[{\"id\":\"1944\"}],\"margin\":[0,0,0,0],\"name\":\"Row06800\"},\"id\":\"1943\",\"type\":\"Row\"},{\"attributes\":{},\"id\":\"1983\",\"type\":\"Selection\"},{\"attributes\":{\"fill_alpha\":{\"value\":0.2},\"fill_color\":{\"value\":\"#fd7f6f\"},\"hatch_alpha\":{\"value\":0.2},\"hatch_color\":{\"value\":\"#fd7f6f\"},\"line_alpha\":{\"value\":0.2},\"top\":{\"field\":\"Export_Value\"},\"width\":{\"value\":0.8},\"x\":{\"field\":\"Regions\"}},\"id\":\"1987\",\"type\":\"VBar\"}],\"root_ids\":[\"1943\",\"2047\"]},\"title\":\"Bokeh Application\",\"version\":\"2.4.2\"}};\n",
       "    var render_items = [{\"docid\":\"714130a6-8457-48fa-bbae-dbf63da4d28b\",\"root_ids\":[\"1943\"],\"roots\":{\"1943\":\"090a5513-2365-4e46-9b8f-e6b86e2f4c40\"}}];\n",
       "    root.Bokeh.embed.embed_items_notebook(docs_json, render_items);\n",
       "  }\n",
       "  if (root.Bokeh !== undefined && root.Bokeh.Panel !== undefined) {\n",
       "    embed_document(root);\n",
       "  } else {\n",
       "    var attempts = 0;\n",
       "    var timer = setInterval(function(root) {\n",
       "      if (root.Bokeh !== undefined && root.Bokeh.Panel !== undefined) {\n",
       "        clearInterval(timer);\n",
       "        embed_document(root);\n",
       "      } else if (document.readyState == \"complete\") {\n",
       "        attempts++;\n",
       "        if (attempts > 200) {\n",
       "          clearInterval(timer);\n",
       "          console.log(\"Bokeh: ERROR: Unable to run BokehJS code because BokehJS library is missing\");\n",
       "        }\n",
       "      }\n",
       "    }, 25, root)\n",
       "  }\n",
       "})(window);</script>"
      ],
      "text/plain": [
       "<hvplot.interactive.Interactive at 0x20a9a67ca30>"
      ]
     },
     "metadata": {
      "application/vnd.holoviews_exec.v0+json": {
       "id": "1943"
      }
     },
     "output_type": "display_data"
    },
    {
     "data": {},
     "metadata": {},
     "output_type": "display_data"
    },
    {
     "data": {},
     "metadata": {},
     "output_type": "display_data"
    },
    {
     "data": {
      "application/vnd.holoviews_exec.v0+json": "",
      "text/html": [
       "<div id='2098'>\n",
       "\n",
       "\n",
       "\n",
       "\n",
       "\n",
       "  <div class=\"bk-root\" id=\"48f0a08b-da04-42fd-8b0c-0a94ed5433cb\" data-root-id=\"2098\"></div>\n",
       "</div>\n",
       "<script type=\"application/javascript\">(function(root) {\n",
       "  function embed_document(root) {\n",
       "    var docs_json = {\"79957636-a3e8-451f-8429-de720d59ec6a\":{\"defs\":[{\"extends\":null,\"module\":null,\"name\":\"ReactiveHTML1\",\"overrides\":[],\"properties\":[]},{\"extends\":null,\"module\":null,\"name\":\"FlexBox1\",\"overrides\":[],\"properties\":[{\"default\":\"flex-start\",\"kind\":null,\"name\":\"align_content\"},{\"default\":\"flex-start\",\"kind\":null,\"name\":\"align_items\"},{\"default\":\"row\",\"kind\":null,\"name\":\"flex_direction\"},{\"default\":\"wrap\",\"kind\":null,\"name\":\"flex_wrap\"},{\"default\":\"flex-start\",\"kind\":null,\"name\":\"justify_content\"}]},{\"extends\":null,\"module\":null,\"name\":\"GridStack1\",\"overrides\":[],\"properties\":[{\"default\":\"warn\",\"kind\":null,\"name\":\"mode\"},{\"default\":null,\"kind\":null,\"name\":\"ncols\"},{\"default\":null,\"kind\":null,\"name\":\"nrows\"},{\"default\":true,\"kind\":null,\"name\":\"allow_resize\"},{\"default\":true,\"kind\":null,\"name\":\"allow_drag\"},{\"default\":[],\"kind\":null,\"name\":\"state\"}]},{\"extends\":null,\"module\":null,\"name\":\"click1\",\"overrides\":[],\"properties\":[{\"default\":\"\",\"kind\":null,\"name\":\"terminal_output\"},{\"default\":\"\",\"kind\":null,\"name\":\"debug_name\"},{\"default\":0,\"kind\":null,\"name\":\"clears\"}]},{\"extends\":null,\"module\":null,\"name\":\"TemplateActions1\",\"overrides\":[],\"properties\":[{\"default\":0,\"kind\":null,\"name\":\"open_modal\"},{\"default\":0,\"kind\":null,\"name\":\"close_modal\"}]},{\"extends\":null,\"module\":null,\"name\":\"MaterialTemplateActions1\",\"overrides\":[],\"properties\":[{\"default\":0,\"kind\":null,\"name\":\"open_modal\"},{\"default\":0,\"kind\":null,\"name\":\"close_modal\"}]}],\"roots\":{\"references\":[{\"attributes\":{\"source\":{\"id\":\"2137\"}},\"id\":\"2144\",\"type\":\"CDSView\"},{\"attributes\":{\"below\":[{\"id\":\"2117\"}],\"center\":[{\"id\":\"2119\"},{\"id\":\"2123\"}],\"height\":300,\"left\":[{\"id\":\"2120\"}],\"margin\":[5,5,5,5],\"min_border_bottom\":10,\"min_border_left\":10,\"min_border_right\":10,\"min_border_top\":10,\"renderers\":[{\"id\":\"2143\"}],\"sizing_mode\":\"fixed\",\"title\":{\"id\":\"2109\"},\"toolbar\":{\"id\":\"2130\"},\"x_range\":{\"id\":\"2105\"},\"x_scale\":{\"id\":\"2113\"},\"y_range\":{\"id\":\"2106\"},\"y_scale\":{\"id\":\"2115\"}},\"id\":\"2108\",\"subtype\":\"Figure\",\"type\":\"Plot\"},{\"attributes\":{},\"id\":\"2148\",\"type\":\"AllLabels\"},{\"attributes\":{},\"id\":\"2147\",\"type\":\"CategoricalTickFormatter\"},{\"attributes\":{\"fill_alpha\":{\"value\":0.2},\"fill_color\":{\"value\":\"#fd7f6f\"},\"hatch_alpha\":{\"value\":0.2},\"hatch_color\":{\"value\":\"#fd7f6f\"},\"line_alpha\":{\"value\":0.2},\"top\":{\"field\":\"Export_Quantity\"},\"width\":{\"value\":0.8},\"x\":{\"field\":\"Regions\"}},\"id\":\"2142\",\"type\":\"VBar\"},{\"attributes\":{\"data\":{\"Export_Quantity\":{\"__ndarray__\":\"OQ8nMB2XXECrgzvPL82DQGHXCUJUlpRALh7ecyB9hEDmuatEBo5oQMHj27vm8IhA\",\"dtype\":\"float64\",\"order\":\"little\",\"shape\":[6]},\"Regions\":[\"Africa\",\"Asia\",\"Europe\",\"North America\",\"Oceania\",\"South America\"]},\"selected\":{\"id\":\"2138\"},\"selection_policy\":{\"id\":\"2159\"}},\"id\":\"2137\",\"type\":\"ColumnDataSource\"},{\"attributes\":{\"fill_alpha\":{\"value\":0.1},\"fill_color\":{\"value\":\"#fd7f6f\"},\"hatch_alpha\":{\"value\":0.1},\"hatch_color\":{\"value\":\"#fd7f6f\"},\"line_alpha\":{\"value\":0.1},\"top\":{\"field\":\"Export_Quantity\"},\"width\":{\"value\":0.8},\"x\":{\"field\":\"Regions\"}},\"id\":\"2141\",\"type\":\"VBar\"},{\"attributes\":{},\"id\":\"2113\",\"type\":\"CategoricalScale\"},{\"attributes\":{\"children\":[{\"id\":\"2101\"},{\"id\":\"2103\"}],\"margin\":[0,0,0,0],\"name\":\"Row06975\"},\"id\":\"2100\",\"type\":\"Row\"},{\"attributes\":{\"children\":[{\"id\":\"2108\"}],\"margin\":[0,0,0,0],\"name\":\"Row06876\"},\"id\":\"2104\",\"type\":\"Row\"},{\"attributes\":{\"coordinates\":null,\"data_source\":{\"id\":\"2137\"},\"glyph\":{\"id\":\"2140\"},\"group\":null,\"hover_glyph\":null,\"muted_glyph\":{\"id\":\"2142\"},\"nonselection_glyph\":{\"id\":\"2141\"},\"selection_glyph\":{\"id\":\"2145\"},\"view\":{\"id\":\"2144\"}},\"id\":\"2143\",\"type\":\"GlyphRenderer\"},{\"attributes\":{\"factors\":[\"Africa\",\"Asia\",\"Europe\",\"North America\",\"Oceania\",\"South America\"],\"tags\":[[[\"Regions\",\"Regions\",null]]]},\"id\":\"2105\",\"type\":\"FactorRange\"},{\"attributes\":{\"children\":[{\"id\":\"2100\"},{\"id\":\"2104\"}],\"margin\":[0,0,0,0],\"name\":\"Column06976\"},\"id\":\"2099\",\"type\":\"Column\"},{\"attributes\":{\"callback\":null,\"renderers\":[{\"id\":\"2143\"}],\"tags\":[\"hv_created\"],\"tooltips\":[[\"Regions\",\"@{Regions}\"],[\"Export Quantity\",\"@{Export_Quantity}\"]]},\"id\":\"2107\",\"type\":\"HoverTool\"},{\"attributes\":{\"fill_color\":{\"value\":\"#fd7f6f\"},\"hatch_color\":{\"value\":\"#fd7f6f\"},\"top\":{\"field\":\"Export_Quantity\"},\"width\":{\"value\":0.8},\"x\":{\"field\":\"Regions\"}},\"id\":\"2140\",\"type\":\"VBar\"},{\"attributes\":{\"coordinates\":null,\"group\":null,\"text_color\":\"black\",\"text_font_size\":\"12pt\"},\"id\":\"2109\",\"type\":\"Title\"},{\"attributes\":{\"tools\":[{\"id\":\"2107\"},{\"id\":\"2124\"},{\"id\":\"2125\"},{\"id\":\"2126\"},{\"id\":\"2127\"},{\"id\":\"2128\"}]},\"id\":\"2130\",\"type\":\"Toolbar\"},{\"attributes\":{\"end\":1437.9043958333334,\"reset_end\":1437.9043958333334,\"reset_start\":0.0,\"tags\":[[[\"Export Quantity\",\"Export Quantity\",null]]]},\"id\":\"2106\",\"type\":\"Range1d\"},{\"attributes\":{\"active\":0,\"button_type\":\"success\",\"labels\":[\"Export Quantity\"],\"margin\":[5,10,5,10]},\"id\":\"2102\",\"type\":\"RadioButtonGroup\"},{\"attributes\":{\"children\":[{\"id\":\"2102\"}],\"margin\":[0,0,0,0],\"name\":\"Column06871\"},\"id\":\"2101\",\"type\":\"Column\"},{\"attributes\":{\"axis_label\":\"Regions\",\"coordinates\":null,\"formatter\":{\"id\":\"2147\"},\"group\":null,\"major_label_orientation\":0.7853981633974483,\"major_label_policy\":{\"id\":\"2148\"},\"ticker\":{\"id\":\"2118\"}},\"id\":\"2117\",\"type\":\"CategoricalAxis\"},{\"attributes\":{},\"id\":\"2115\",\"type\":\"LinearScale\"},{\"attributes\":{},\"id\":\"2151\",\"type\":\"AllLabels\"},{\"attributes\":{\"axis\":{\"id\":\"2117\"},\"coordinates\":null,\"grid_line_color\":null,\"group\":null,\"ticker\":null},\"id\":\"2119\",\"type\":\"Grid\"},{\"attributes\":{\"axis\":{\"id\":\"2120\"},\"coordinates\":null,\"dimension\":1,\"grid_line_color\":null,\"group\":null,\"ticker\":null},\"id\":\"2123\",\"type\":\"Grid\"},{\"attributes\":{},\"id\":\"2150\",\"type\":\"BasicTickFormatter\"},{\"attributes\":{},\"id\":\"2125\",\"type\":\"PanTool\"},{\"attributes\":{},\"id\":\"2118\",\"type\":\"CategoricalTicker\"},{\"attributes\":{\"margin\":[5,5,5,5],\"name\":\"HSpacer06974\",\"sizing_mode\":\"stretch_width\"},\"id\":\"2103\",\"type\":\"Spacer\"},{\"attributes\":{},\"id\":\"2138\",\"type\":\"Selection\"},{\"attributes\":{\"axis_label\":\"Trade in Tonnes\",\"coordinates\":null,\"formatter\":{\"id\":\"2150\"},\"group\":null,\"major_label_policy\":{\"id\":\"2151\"},\"ticker\":{\"id\":\"2121\"}},\"id\":\"2120\",\"type\":\"LinearAxis\"},{\"attributes\":{},\"id\":\"2159\",\"type\":\"UnionRenderers\"},{\"attributes\":{},\"id\":\"2121\",\"type\":\"BasicTicker\"},{\"attributes\":{\"bottom\":{\"value\":0},\"fill_alpha\":{\"value\":1.0},\"fill_color\":{\"value\":\"#fd7f6f\"},\"hatch_alpha\":{\"value\":1.0},\"hatch_color\":{\"value\":\"#fd7f6f\"},\"hatch_scale\":{\"value\":12.0},\"hatch_weight\":{\"value\":1.0},\"line_alpha\":{\"value\":1.0},\"line_cap\":{\"value\":\"butt\"},\"line_color\":{\"value\":\"black\"},\"line_dash\":{\"value\":[]},\"line_dash_offset\":{\"value\":0},\"line_join\":{\"value\":\"bevel\"},\"line_width\":{\"value\":1},\"top\":{\"field\":\"Export_Quantity\"},\"width\":{\"value\":0.8},\"x\":{\"field\":\"Regions\"}},\"id\":\"2145\",\"type\":\"VBar\"},{\"attributes\":{\"client_comm_id\":\"a54e43bdb64d4d5c8e581b450776b1c8\",\"comm_id\":\"d8d957f2ffe54b10a328b32b5ff7038c\",\"plot_id\":\"2098\"},\"id\":\"2202\",\"type\":\"panel.models.comm_manager.CommManager\"},{\"attributes\":{},\"id\":\"2126\",\"type\":\"WheelZoomTool\"},{\"attributes\":{},\"id\":\"2124\",\"type\":\"SaveTool\"},{\"attributes\":{\"overlay\":{\"id\":\"2129\"}},\"id\":\"2127\",\"type\":\"BoxZoomTool\"},{\"attributes\":{},\"id\":\"2128\",\"type\":\"ResetTool\"},{\"attributes\":{\"children\":[{\"id\":\"2099\"}],\"margin\":[0,0,0,0],\"name\":\"Row06977\"},\"id\":\"2098\",\"type\":\"Row\"},{\"attributes\":{\"bottom_units\":\"screen\",\"coordinates\":null,\"fill_alpha\":0.5,\"fill_color\":\"lightgrey\",\"group\":null,\"left_units\":\"screen\",\"level\":\"overlay\",\"line_alpha\":1.0,\"line_color\":\"black\",\"line_dash\":[4,4],\"line_width\":2,\"right_units\":\"screen\",\"syncable\":false,\"top_units\":\"screen\"},\"id\":\"2129\",\"type\":\"BoxAnnotation\"}],\"root_ids\":[\"2098\",\"2202\"]},\"title\":\"Bokeh Application\",\"version\":\"2.4.2\"}};\n",
       "    var render_items = [{\"docid\":\"79957636-a3e8-451f-8429-de720d59ec6a\",\"root_ids\":[\"2098\"],\"roots\":{\"2098\":\"48f0a08b-da04-42fd-8b0c-0a94ed5433cb\"}}];\n",
       "    root.Bokeh.embed.embed_items_notebook(docs_json, render_items);\n",
       "  }\n",
       "  if (root.Bokeh !== undefined && root.Bokeh.Panel !== undefined) {\n",
       "    embed_document(root);\n",
       "  } else {\n",
       "    var attempts = 0;\n",
       "    var timer = setInterval(function(root) {\n",
       "      if (root.Bokeh !== undefined && root.Bokeh.Panel !== undefined) {\n",
       "        clearInterval(timer);\n",
       "        embed_document(root);\n",
       "      } else if (document.readyState == \"complete\") {\n",
       "        attempts++;\n",
       "        if (attempts > 200) {\n",
       "          clearInterval(timer);\n",
       "          console.log(\"Bokeh: ERROR: Unable to run BokehJS code because BokehJS library is missing\");\n",
       "        }\n",
       "      }\n",
       "    }, 25, root)\n",
       "  }\n",
       "})(window);</script>"
      ],
      "text/plain": [
       "<hvplot.interactive.Interactive at 0x20a9a5445e0>"
      ]
     },
     "metadata": {
      "application/vnd.holoviews_exec.v0+json": {
       "id": "2098"
      }
     },
     "output_type": "display_data"
    }
   ],
   "source": [
    "display(e,d)"
   ]
  },
  {
   "cell_type": "markdown",
   "id": "4a185d91",
   "metadata": {},
   "source": [
    "# Work in progress"
   ]
  },
  {
   "cell_type": "code",
   "execution_count": 22,
   "id": "93c87dad",
   "metadata": {},
   "outputs": [],
   "source": [
    "total_trade = trade_pivot.pivot_table( ['Export Value','Import Value'],['Regions']).reset_index()\n",
    "total_trade['Total'] =(total_trade.iloc[:,2] + total_trade.iloc[:,2])/((total_trade.iloc[:,2] + total_trade.iloc[:,2]).sum())*100"
   ]
  },
  {
   "cell_type": "code",
   "execution_count": null,
   "id": "f42a4027",
   "metadata": {},
   "outputs": [],
   "source": []
  },
  {
   "cell_type": "code",
   "execution_count": null,
   "id": "e68f30ea",
   "metadata": {},
   "outputs": [],
   "source": []
  },
  {
   "cell_type": "code",
   "execution_count": 23,
   "id": "00815c9f",
   "metadata": {},
   "outputs": [],
   "source": [
    "data_plot = total_trade.hvplot.bar(x = 'Regions', y=['Import Value','Export Value'] ,alpha = 13,\n",
    "                                     title=\"Trade parameters in a category  \",height=1000,grid=True,\n",
    "                                     color=(['#ff6361']), invert = True)"
   ]
  },
  {
   "cell_type": "code",
   "execution_count": 24,
   "id": "3ef20110",
   "metadata": {},
   "outputs": [
    {
     "data": {},
     "metadata": {},
     "output_type": "display_data"
    },
    {
     "data": {
      "application/vnd.holoviews_exec.v0+json": "",
      "text/html": [
       "<div id='1323'>\n",
       "\n",
       "\n",
       "\n",
       "\n",
       "\n",
       "  <div class=\"bk-root\" id=\"8d8b9b7f-f414-4265-aa25-42e78a10ffc0\" data-root-id=\"1323\"></div>\n",
       "</div>\n",
       "<script type=\"application/javascript\">(function(root) {\n",
       "  function embed_document(root) {\n",
       "    var docs_json = {\"20771f25-1a94-497d-8bd5-f08c42b8e19f\":{\"defs\":[{\"extends\":null,\"module\":null,\"name\":\"ReactiveHTML1\",\"overrides\":[],\"properties\":[]},{\"extends\":null,\"module\":null,\"name\":\"FlexBox1\",\"overrides\":[],\"properties\":[{\"default\":\"flex-start\",\"kind\":null,\"name\":\"align_content\"},{\"default\":\"flex-start\",\"kind\":null,\"name\":\"align_items\"},{\"default\":\"row\",\"kind\":null,\"name\":\"flex_direction\"},{\"default\":\"wrap\",\"kind\":null,\"name\":\"flex_wrap\"},{\"default\":\"flex-start\",\"kind\":null,\"name\":\"justify_content\"}]},{\"extends\":null,\"module\":null,\"name\":\"GridStack1\",\"overrides\":[],\"properties\":[{\"default\":\"warn\",\"kind\":null,\"name\":\"mode\"},{\"default\":null,\"kind\":null,\"name\":\"ncols\"},{\"default\":null,\"kind\":null,\"name\":\"nrows\"},{\"default\":true,\"kind\":null,\"name\":\"allow_resize\"},{\"default\":true,\"kind\":null,\"name\":\"allow_drag\"},{\"default\":[],\"kind\":null,\"name\":\"state\"}]},{\"extends\":null,\"module\":null,\"name\":\"click1\",\"overrides\":[],\"properties\":[{\"default\":\"\",\"kind\":null,\"name\":\"terminal_output\"},{\"default\":\"\",\"kind\":null,\"name\":\"debug_name\"},{\"default\":0,\"kind\":null,\"name\":\"clears\"}]},{\"extends\":null,\"module\":null,\"name\":\"TemplateActions1\",\"overrides\":[],\"properties\":[{\"default\":0,\"kind\":null,\"name\":\"open_modal\"},{\"default\":0,\"kind\":null,\"name\":\"close_modal\"}]},{\"extends\":null,\"module\":null,\"name\":\"MaterialTemplateActions1\",\"overrides\":[],\"properties\":[{\"default\":0,\"kind\":null,\"name\":\"open_modal\"},{\"default\":0,\"kind\":null,\"name\":\"close_modal\"}]}],\"roots\":{\"references\":[{\"attributes\":{\"children\":[{\"id\":\"1324\"},{\"id\":\"1328\"},{\"id\":\"1395\"}],\"margin\":[0,0,0,0],\"name\":\"Row02984\",\"tags\":[\"embedded\"]},\"id\":\"1323\",\"type\":\"Row\"},{\"attributes\":{\"fill_alpha\":{\"value\":0.2},\"fill_color\":{\"field\":\"Element\",\"transform\":{\"id\":\"1357\"}},\"hatch_alpha\":{\"value\":0.2},\"hatch_color\":{\"field\":\"Element\",\"transform\":{\"id\":\"1357\"}},\"height\":{\"value\":0.8},\"line_alpha\":{\"value\":0.2},\"right\":{\"field\":\"value\"},\"y\":{\"field\":\"xoffsets\"}},\"id\":\"1363\",\"type\":\"HBar\"},{\"attributes\":{},\"id\":\"1371\",\"type\":\"CategoricalTickFormatter\"},{\"attributes\":{\"overlay\":{\"id\":\"1349\"}},\"id\":\"1347\",\"type\":\"BoxZoomTool\"},{\"attributes\":{},\"id\":\"1372\",\"type\":\"AllLabels\"},{\"attributes\":{},\"id\":\"1348\",\"type\":\"ResetTool\"},{\"attributes\":{\"end\":2778066.6795035806,\"reset_end\":2778066.6795035806,\"reset_start\":0.0,\"tags\":[[[\"value\",\"value\",null]]]},\"id\":\"1325\",\"type\":\"Range1d\"},{\"attributes\":{\"margin\":[5,5,5,5],\"name\":\"HSpacer02988\",\"sizing_mode\":\"stretch_width\"},\"id\":\"1324\",\"type\":\"Spacer\"},{\"attributes\":{\"bottom_units\":\"screen\",\"coordinates\":null,\"fill_alpha\":0.5,\"fill_color\":\"lightgrey\",\"group\":null,\"left_units\":\"screen\",\"level\":\"overlay\",\"line_alpha\":1.0,\"line_color\":\"black\",\"line_dash\":[4,4],\"line_width\":2,\"right_units\":\"screen\",\"syncable\":false,\"top_units\":\"screen\"},\"id\":\"1349\",\"type\":\"BoxAnnotation\"},{\"attributes\":{\"source\":{\"id\":\"1358\"}},\"id\":\"1365\",\"type\":\"CDSView\"},{\"attributes\":{},\"id\":\"1338\",\"type\":\"BasicTicker\"},{\"attributes\":{},\"id\":\"1333\",\"type\":\"LinearScale\"},{\"attributes\":{\"coordinates\":null,\"data_source\":{\"id\":\"1358\"},\"glyph\":{\"id\":\"1361\"},\"group\":null,\"hover_glyph\":null,\"muted_glyph\":{\"id\":\"1363\"},\"nonselection_glyph\":{\"id\":\"1362\"},\"selection_glyph\":{\"id\":\"1366\"},\"view\":{\"id\":\"1365\"}},\"id\":\"1364\",\"type\":\"GlyphRenderer\"},{\"attributes\":{\"fill_alpha\":{\"value\":13},\"fill_color\":{\"field\":\"Element\",\"transform\":{\"id\":\"1357\"}},\"hatch_alpha\":{\"value\":13},\"hatch_color\":{\"field\":\"Element\",\"transform\":{\"id\":\"1357\"}},\"height\":{\"value\":0.8},\"line_alpha\":{\"value\":13},\"right\":{\"field\":\"value\"},\"y\":{\"field\":\"xoffsets\"}},\"id\":\"1361\",\"type\":\"HBar\"},{\"attributes\":{},\"id\":\"1368\",\"type\":\"BasicTickFormatter\"},{\"attributes\":{},\"id\":\"1382\",\"type\":\"UnionRenderers\"},{\"attributes\":{\"factors\":[[\"Africa\",\"Export Value\"],[\"Africa\",\"Import Value\"],[\"Asia\",\"Export Value\"],[\"Asia\",\"Import Value\"],[\"Europe\",\"Export Value\"],[\"Europe\",\"Import Value\"],[\"North America\",\"Export Value\"],[\"North America\",\"Import Value\"],[\"Oceania\",\"Export Value\"],[\"Oceania\",\"Import Value\"],[\"South America\",\"Export Value\"],[\"South America\",\"Import Value\"]],\"tags\":[[[\"Regions\",\"Regions\",null],[\"Element\",\"Element\",null]]]},\"id\":\"1326\",\"type\":\"FactorRange\"},{\"attributes\":{\"coordinates\":null,\"group\":null,\"text\":\"Trade parameters in a category\",\"text_color\":\"black\",\"text_font_size\":\"12pt\"},\"id\":\"1329\",\"type\":\"Title\"},{\"attributes\":{},\"id\":\"1359\",\"type\":\"Selection\"},{\"attributes\":{\"tools\":[{\"id\":\"1327\"},{\"id\":\"1344\"},{\"id\":\"1345\"},{\"id\":\"1346\"},{\"id\":\"1347\"},{\"id\":\"1348\"}]},\"id\":\"1350\",\"type\":\"Toolbar\"},{\"attributes\":{},\"id\":\"1369\",\"type\":\"AllLabels\"},{\"attributes\":{\"fill_alpha\":{\"value\":13},\"fill_color\":{\"field\":\"Element\",\"transform\":{\"id\":\"1357\"}},\"hatch_alpha\":{\"value\":0.1},\"hatch_color\":{\"field\":\"Element\",\"transform\":{\"id\":\"1357\"}},\"height\":{\"value\":0.8},\"line_alpha\":{\"value\":13},\"right\":{\"field\":\"value\"},\"y\":{\"field\":\"xoffsets\"}},\"id\":\"1362\",\"type\":\"HBar\"},{\"attributes\":{\"axis\":{\"id\":\"1337\"},\"coordinates\":null,\"group\":null,\"ticker\":{\"id\":\"1338\"}},\"id\":\"1340\",\"type\":\"Grid\"},{\"attributes\":{\"fill_alpha\":{\"value\":13},\"fill_color\":{\"field\":\"Element\",\"transform\":{\"id\":\"1357\"}},\"hatch_alpha\":{\"value\":13},\"hatch_color\":{\"field\":\"Element\",\"transform\":{\"id\":\"1357\"}},\"hatch_scale\":{\"value\":12.0},\"hatch_weight\":{\"value\":1.0},\"height\":{\"value\":0.8},\"left\":{\"value\":0},\"line_alpha\":{\"value\":13},\"line_cap\":{\"value\":\"butt\"},\"line_color\":{\"value\":\"black\"},\"line_dash\":{\"value\":[]},\"line_dash_offset\":{\"value\":0},\"line_join\":{\"value\":\"bevel\"},\"line_width\":{\"value\":1},\"right\":{\"field\":\"value\"},\"y\":{\"field\":\"xoffsets\"}},\"id\":\"1366\",\"type\":\"HBar\"},{\"attributes\":{\"callback\":null,\"renderers\":[{\"id\":\"1364\"}],\"tags\":[\"hv_created\"],\"tooltips\":[[\"Regions\",\"@{Regions}\"],[\"Element\",\"@{Element}\"],[\"value\",\"@{value}\"]]},\"id\":\"1327\",\"type\":\"HoverTool\"},{\"attributes\":{},\"id\":\"1335\",\"type\":\"CategoricalScale\"},{\"attributes\":{\"below\":[{\"id\":\"1337\"}],\"center\":[{\"id\":\"1340\"},{\"id\":\"1343\"}],\"height\":1000,\"left\":[{\"id\":\"1341\"}],\"margin\":[5,5,5,5],\"min_border_bottom\":10,\"min_border_left\":10,\"min_border_right\":10,\"min_border_top\":10,\"renderers\":[{\"id\":\"1364\"}],\"sizing_mode\":\"fixed\",\"title\":{\"id\":\"1329\"},\"toolbar\":{\"id\":\"1350\"},\"width\":700,\"x_range\":{\"id\":\"1325\"},\"x_scale\":{\"id\":\"1333\"},\"y_range\":{\"id\":\"1326\"},\"y_scale\":{\"id\":\"1335\"}},\"id\":\"1328\",\"subtype\":\"Figure\",\"type\":\"Plot\"},{\"attributes\":{\"axis_label\":\"\",\"coordinates\":null,\"formatter\":{\"id\":\"1368\"},\"group\":null,\"major_label_policy\":{\"id\":\"1369\"},\"ticker\":{\"id\":\"1338\"}},\"id\":\"1337\",\"type\":\"LinearAxis\"},{\"attributes\":{},\"id\":\"1346\",\"type\":\"WheelZoomTool\"},{\"attributes\":{\"margin\":[5,5,5,5],\"name\":\"HSpacer02989\",\"sizing_mode\":\"stretch_width\"},\"id\":\"1395\",\"type\":\"Spacer\"},{\"attributes\":{\"axis\":{\"id\":\"1341\"},\"coordinates\":null,\"dimension\":1,\"group\":null,\"ticker\":{\"id\":\"1342\"}},\"id\":\"1343\",\"type\":\"Grid\"},{\"attributes\":{},\"id\":\"1345\",\"type\":\"PanTool\"},{\"attributes\":{\"factors\":[\"Import Value\",\"Export Value\"],\"palette\":[\"#ff6361\",\"#ff6361\"]},\"id\":\"1357\",\"type\":\"CategoricalColorMapper\"},{\"attributes\":{},\"id\":\"1342\",\"type\":\"CategoricalTicker\"},{\"attributes\":{\"axis_label\":\"Regions, Element\",\"coordinates\":null,\"formatter\":{\"id\":\"1371\"},\"group\":null,\"major_label_policy\":{\"id\":\"1372\"},\"ticker\":{\"id\":\"1342\"}},\"id\":\"1341\",\"type\":\"CategoricalAxis\"},{\"attributes\":{},\"id\":\"1344\",\"type\":\"SaveTool\"},{\"attributes\":{\"data\":{\"Element\":[\"Import Value\",\"Import Value\",\"Import Value\",\"Import Value\",\"Import Value\",\"Import Value\",\"Export Value\",\"Export Value\",\"Export Value\",\"Export Value\",\"Export Value\",\"Export Value\"],\"Regions\":[\"Africa\",\"Asia\",\"Europe\",\"North America\",\"Oceania\",\"South America\",\"Africa\",\"Asia\",\"Europe\",\"North America\",\"Oceania\",\"South America\"],\"value\":{\"__ndarray__\":\"+bb32hs87UA42OwLqK8hQcw3XewXzyNBc9zvMV2HKkFDjH3gDA4vQWGHtTApQAlB7DkiN6xM80DUS8XtgRgoQazKjw7jZydB36xlE4P9MUEla2ETR09DQYEQIYvJFhxB\",\"dtype\":\"float64\",\"order\":\"little\",\"shape\":[12]},\"xoffsets\":[[\"Africa\",\"Import Value\"],[\"Asia\",\"Import Value\"],[\"Europe\",\"Import Value\"],[\"North America\",\"Import Value\"],[\"Oceania\",\"Import Value\"],[\"South America\",\"Import Value\"],[\"Africa\",\"Export Value\"],[\"Asia\",\"Export Value\"],[\"Europe\",\"Export Value\"],[\"North America\",\"Export Value\"],[\"Oceania\",\"Export Value\"],[\"South America\",\"Export Value\"]]},\"selected\":{\"id\":\"1359\"},\"selection_policy\":{\"id\":\"1382\"}},\"id\":\"1358\",\"type\":\"ColumnDataSource\"}],\"root_ids\":[\"1323\"]},\"title\":\"Bokeh Application\",\"version\":\"2.4.2\"}};\n",
       "    var render_items = [{\"docid\":\"20771f25-1a94-497d-8bd5-f08c42b8e19f\",\"root_ids\":[\"1323\"],\"roots\":{\"1323\":\"8d8b9b7f-f414-4265-aa25-42e78a10ffc0\"}}];\n",
       "    root.Bokeh.embed.embed_items_notebook(docs_json, render_items);\n",
       "  }\n",
       "  if (root.Bokeh !== undefined && root.Bokeh.Panel !== undefined) {\n",
       "    embed_document(root);\n",
       "  } else {\n",
       "    var attempts = 0;\n",
       "    var timer = setInterval(function(root) {\n",
       "      if (root.Bokeh !== undefined && root.Bokeh.Panel !== undefined) {\n",
       "        clearInterval(timer);\n",
       "        embed_document(root);\n",
       "      } else if (document.readyState == \"complete\") {\n",
       "        attempts++;\n",
       "        if (attempts > 200) {\n",
       "          clearInterval(timer);\n",
       "          console.log(\"Bokeh: ERROR: Unable to run BokehJS code because BokehJS library is missing\");\n",
       "        }\n",
       "      }\n",
       "    }, 25, root)\n",
       "  }\n",
       "})(window);</script>"
      ],
      "text/plain": [
       ":Bars   [Regions,Element]   (value)"
      ]
     },
     "execution_count": 24,
     "metadata": {
      "application/vnd.holoviews_exec.v0+json": {
       "id": "1323"
      }
     },
     "output_type": "execute_result"
    }
   ],
   "source": [
    "data_plot"
   ]
  },
  {
   "cell_type": "code",
   "execution_count": 25,
   "id": "d182a899",
   "metadata": {},
   "outputs": [
    {
     "data": {},
     "metadata": {},
     "output_type": "display_data"
    },
    {
     "data": {
      "application/vnd.holoviews_exec.v0+json": "",
      "text/html": [
       "<div id='1447'>\n",
       "\n",
       "\n",
       "\n",
       "\n",
       "\n",
       "  <div class=\"bk-root\" id=\"60be29ec-d2a2-4a70-8f2e-626babd135bb\" data-root-id=\"1447\"></div>\n",
       "</div>\n",
       "<script type=\"application/javascript\">(function(root) {\n",
       "  function embed_document(root) {\n",
       "    var docs_json = {\"0b421eee-a81d-4c20-b975-566c34f6b108\":{\"defs\":[{\"extends\":null,\"module\":null,\"name\":\"ReactiveHTML1\",\"overrides\":[],\"properties\":[]},{\"extends\":null,\"module\":null,\"name\":\"FlexBox1\",\"overrides\":[],\"properties\":[{\"default\":\"flex-start\",\"kind\":null,\"name\":\"align_content\"},{\"default\":\"flex-start\",\"kind\":null,\"name\":\"align_items\"},{\"default\":\"row\",\"kind\":null,\"name\":\"flex_direction\"},{\"default\":\"wrap\",\"kind\":null,\"name\":\"flex_wrap\"},{\"default\":\"flex-start\",\"kind\":null,\"name\":\"justify_content\"}]},{\"extends\":null,\"module\":null,\"name\":\"GridStack1\",\"overrides\":[],\"properties\":[{\"default\":\"warn\",\"kind\":null,\"name\":\"mode\"},{\"default\":null,\"kind\":null,\"name\":\"ncols\"},{\"default\":null,\"kind\":null,\"name\":\"nrows\"},{\"default\":true,\"kind\":null,\"name\":\"allow_resize\"},{\"default\":true,\"kind\":null,\"name\":\"allow_drag\"},{\"default\":[],\"kind\":null,\"name\":\"state\"}]},{\"extends\":null,\"module\":null,\"name\":\"click1\",\"overrides\":[],\"properties\":[{\"default\":\"\",\"kind\":null,\"name\":\"terminal_output\"},{\"default\":\"\",\"kind\":null,\"name\":\"debug_name\"},{\"default\":0,\"kind\":null,\"name\":\"clears\"}]},{\"extends\":null,\"module\":null,\"name\":\"TemplateActions1\",\"overrides\":[],\"properties\":[{\"default\":0,\"kind\":null,\"name\":\"open_modal\"},{\"default\":0,\"kind\":null,\"name\":\"close_modal\"}]},{\"extends\":null,\"module\":null,\"name\":\"MaterialTemplateActions1\",\"overrides\":[],\"properties\":[{\"default\":0,\"kind\":null,\"name\":\"open_modal\"},{\"default\":0,\"kind\":null,\"name\":\"close_modal\"}]}],\"roots\":{\"references\":[{\"attributes\":{\"coordinates\":null,\"group\":null,\"text_color\":\"black\",\"text_font_size\":\"12pt\"},\"id\":\"1504\",\"type\":\"Title\"},{\"attributes\":{\"aspect_scale\":0.4773125202904067,\"fill_alpha\":{\"value\":1.0},\"fill_color\":{\"field\":\"Count\",\"transform\":{\"id\":\"1533\"}},\"hatch_alpha\":{\"value\":1.0},\"hatch_color\":{\"field\":\"Count\",\"transform\":{\"id\":\"1533\"}},\"hatch_scale\":{\"value\":12.0},\"hatch_weight\":{\"value\":1.0},\"line_alpha\":{\"value\":1.0},\"line_cap\":{\"value\":\"butt\"},\"line_color\":{\"field\":\"Count\",\"transform\":{\"id\":\"1533\"}},\"line_dash\":{\"value\":[]},\"line_dash_offset\":{\"value\":0},\"line_join\":{\"value\":\"bevel\"},\"line_width\":{\"value\":1},\"q\":{\"field\":\"q\"},\"r\":{\"field\":\"r\"},\"scale\":{\"value\":1.0},\"size\":558147.2666666666},\"id\":\"1544\",\"type\":\"HexTile\"},{\"attributes\":{},\"id\":\"1510\",\"type\":\"LinearScale\"},{\"attributes\":{\"callback\":null,\"renderers\":[{\"id\":\"1540\"}],\"tags\":[\"hv_created\"],\"tooltips\":[[\"Count\",\"@{Count}\"]]},\"id\":\"1502\",\"type\":\"HoverTool\"},{\"attributes\":{\"end\":41861045.0,\"reset_end\":41861045.0,\"reset_start\":0.0,\"tags\":[[[\"Import Quantity\",\"Import Quantity\",null]]]},\"id\":\"1501\",\"type\":\"Range1d\"},{\"attributes\":{\"margin\":[5,5,5,5],\"name\":\"HSpacer03249\",\"sizing_mode\":\"stretch_width\"},\"id\":\"1448\",\"type\":\"Spacer\"},{\"attributes\":{\"bottom_units\":\"screen\",\"coordinates\":null,\"fill_alpha\":0.5,\"fill_color\":\"lightgrey\",\"group\":null,\"left_units\":\"screen\",\"level\":\"overlay\",\"line_alpha\":1.0,\"line_color\":\"black\",\"line_dash\":[4,4],\"line_width\":2,\"right_units\":\"screen\",\"syncable\":false,\"top_units\":\"screen\"},\"id\":\"1474\",\"type\":\"BoxAnnotation\"},{\"attributes\":{},\"id\":\"1508\",\"type\":\"LinearScale\"},{\"attributes\":{\"end\":96471698.4,\"reset_end\":96471698.4,\"reset_start\":-8770154.4,\"start\":-8770154.4,\"tags\":[[[\"Export Quantity\",\"Export Quantity\",null]]]},\"id\":\"1500\",\"type\":\"Range1d\"},{\"attributes\":{\"below\":[{\"id\":\"1512\"}],\"center\":[{\"id\":\"1515\"},{\"id\":\"1519\"}],\"height\":500,\"left\":[{\"id\":\"1516\"}],\"margin\":null,\"min_border_bottom\":10,\"min_border_left\":10,\"min_border_right\":10,\"min_border_top\":10,\"renderers\":[{\"id\":\"1540\"}],\"right\":[{\"id\":\"1543\"}],\"sizing_mode\":\"fixed\",\"title\":{\"id\":\"1504\"},\"toolbar\":{\"id\":\"1526\"},\"toolbar_location\":null,\"width\":500,\"x_range\":{\"id\":\"1500\"},\"x_scale\":{\"id\":\"1508\"},\"y_range\":{\"id\":\"1501\"},\"y_scale\":{\"id\":\"1510\"}},\"id\":\"1503\",\"subtype\":\"Figure\",\"type\":\"Plot\"},{\"attributes\":{\"children\":[[{\"id\":\"1452\"},0,0],[{\"id\":\"1503\"},0,1]]},\"id\":\"1575\",\"type\":\"GridBox\"},{\"attributes\":{\"aspect_scale\":0.4773125202904067,\"fill_alpha\":{\"value\":0.1},\"fill_color\":{\"field\":\"Count\",\"transform\":{\"id\":\"1533\"}},\"hatch_alpha\":{\"value\":0.1},\"hatch_color\":{\"field\":\"Count\",\"transform\":{\"id\":\"1533\"}},\"line_alpha\":{\"value\":0.1},\"line_color\":{\"field\":\"Count\",\"transform\":{\"id\":\"1533\"}},\"q\":{\"field\":\"q\"},\"r\":{\"field\":\"r\"},\"size\":558147.2666666666},\"id\":\"1538\",\"type\":\"HexTile\"},{\"attributes\":{\"children\":[{\"id\":\"1448\"},{\"id\":\"1578\"},{\"id\":\"1777\"}],\"margin\":[0,0,0,0],\"name\":\"Row03245\",\"tags\":[\"embedded\"]},\"id\":\"1447\",\"type\":\"Row\"},{\"attributes\":{},\"id\":\"1521\",\"type\":\"PanTool\"},{\"attributes\":{\"axis\":{\"id\":\"1516\"},\"coordinates\":null,\"dimension\":1,\"grid_line_color\":null,\"group\":null,\"ticker\":null},\"id\":\"1519\",\"type\":\"Grid\"},{\"attributes\":{\"data\":{\"Count\":{\"__ndarray__\":\"4gIAADQAAAAVAAAAWQAAAAIAAAAEAAAAAgAAAAIAAAAMAAAAAwAAAAQAAAAHAAAADAAAAAUAAAABAAAAAQAAAAIAAAAKAAAAAQAAAAIAAAABAAAAAQAAAAEAAAABAAAAAgAAAAEAAAABAAAAAwAAAAIAAAABAAAAAQAAAAEAAAAFAAAAAwAAAAcAAAACAAAAAgAAAAoAAAABAAAAAQAAAAEAAAADAAAAAQAAAAEAAAABAAAACQAAAAIAAAABAAAAAQAAAAEAAAABAAAAAQAAAAEAAAABAAAAAQAAAAEAAAABAAAAAQAAAAEAAAABAAAAAQAAAAEAAAACAAAAAgAAAAEAAAABAAAAAQAAAAEAAAABAAAAAgAAAAEAAAABAAAAAQAAAAEAAAABAAAAAQAAAAEAAAA=\",\"dtype\":\"int32\",\"order\":\"little\",\"shape\":[77]},\"q\":[0,1,1,1,9,3,4,4,2,6,3,4,2,6,14,13,8,4,38,9,14,17,8,6,5,41,41,5,6,3,34,34,3,6,3,5,2,2,10,13,16,5,15,18,28,2,7,6,7,21,14,12,3,6,14,19,12,33,24,11,7,8,4,10,5,27,8,6,5,10,8,11,22,44,55,5,9],\"r\":[0,0,-2,-1,0,0,-2,0,-1,-4,-3,-3,-2,-3,-7,-7,-2,-1,-1,-1,-10,-7,-1,-10,-8,-22,-50,-9,-5,-6,-15,-44,-2,0,-1,0,-4,-3,-4,-13,-10,-3,-8,-22,-18,0,-2,-9,-3,0,-6,-6,-5,-7,-1,-2,-4,-15,-13,0,-4,-4,-4,0,-7,-6,-6,-2,-1,-2,-13,-10,-2,-37,-24,-5,-3]},\"selected\":{\"id\":\"1484\"},\"selection_policy\":{\"id\":\"1559\"}},\"id\":\"1483\",\"type\":\"ColumnDataSource\"},{\"attributes\":{},\"id\":\"1459\",\"type\":\"LinearScale\"},{\"attributes\":{\"axis_label\":\"Export Quantity\",\"coordinates\":null,\"formatter\":{\"id\":\"1546\"},\"group\":null,\"major_label_policy\":{\"id\":\"1547\"},\"ticker\":{\"id\":\"1513\"}},\"id\":\"1512\",\"type\":\"LinearAxis\"},{\"attributes\":{\"axis\":{\"id\":\"1512\"},\"coordinates\":null,\"grid_line_color\":null,\"group\":null,\"ticker\":null},\"id\":\"1515\",\"type\":\"Grid\"},{\"attributes\":{\"tools\":[{\"id\":\"1451\"},{\"id\":\"1469\"},{\"id\":\"1470\"},{\"id\":\"1471\"},{\"id\":\"1472\"},{\"id\":\"1473\"}]},\"id\":\"1475\",\"type\":\"Toolbar\"},{\"attributes\":{\"aspect_scale\":1.4000398357421744,\"fill_alpha\":{\"value\":0.1},\"fill_color\":{\"field\":\"Count\",\"transform\":{\"id\":\"1482\"}},\"hatch_alpha\":{\"value\":0.1},\"hatch_color\":{\"field\":\"Count\",\"transform\":{\"id\":\"1482\"}},\"line_alpha\":{\"value\":0.1},\"line_color\":{\"field\":\"Count\",\"transform\":{\"id\":\"1482\"}},\"q\":{\"field\":\"q\"},\"r\":{\"field\":\"r\"},\"size\":761294.4533333333},\"id\":\"1487\",\"type\":\"HexTile\"},{\"attributes\":{\"data\":{\"Count\":{\"__ndarray__\":\"PAAAAPYBAAAEAAAAIwAAAAIAAAACAAAAAwAAAAEAAAAMAAAACQAAAAMAAAABAAAAAQAAAAIAAAABAAAAAgAAAAMAAAAEAAAABAAAAAEAAAABAAAACwAAAAEAAAACAAAAAwAAAAEAAAABAAAAAwAAAAEAAAABAAAAAQAAAAEAAAADAAAAAQAAAAEAAAABAAAAAgAAAAEAAAADAAAAAQAAAAEAAAABAAAAAQAAAAEAAAABAAAAAQAAAAEAAAABAAAAAQAAAAEAAAADAAAAAQAAAAEAAAABAAAAAQAAAAEAAAABAAAA\",\"dtype\":\"int32\",\"order\":\"little\",\"shape\":[57]},\"q\":[1,0,8,1,25,3,3,8,1,2,5,6,23,14,18,4,4,2,3,26,23,2,4,22,2,10,17,2,13,7,3,9,9,7,6,9,14,3,4,10,13,6,6,5,4,5,10,8,23,7,3,6,5,47,13,4,12],\"r\":[-1,0,-16,-2,0,-2,0,-1,0,-3,-10,-10,-11,0,-3,-1,0,0,-5,-50,-44,-4,-7,-42,-1,-20,-2,-2,-14,-11,-3,-1,-17,-14,-11,-18,-28,-1,-8,-2,-25,-12,-6,-6,-3,-2,-19,-4,-1,-13,-4,-7,-7,-7,-4,-6,-18]},\"selected\":{\"id\":\"1535\"},\"selection_policy\":{\"id\":\"1571\"}},\"id\":\"1534\",\"type\":\"ColumnDataSource\"},{\"attributes\":{},\"id\":\"1513\",\"type\":\"BasicTicker\"},{\"attributes\":{\"axis_label\":\"Import Quantity\",\"coordinates\":null,\"formatter\":{\"id\":\"1549\"},\"group\":null,\"major_label_policy\":{\"id\":\"1550\"},\"ticker\":{\"id\":\"1517\"}},\"id\":\"1516\",\"type\":\"LinearAxis\"},{\"attributes\":{\"aspect_scale\":1.4000398357421744,\"fill_color\":{\"field\":\"Count\",\"transform\":{\"id\":\"1482\"}},\"hatch_color\":{\"field\":\"Count\",\"transform\":{\"id\":\"1482\"}},\"line_color\":{\"field\":\"Count\",\"transform\":{\"id\":\"1482\"}},\"q\":{\"field\":\"q\"},\"r\":{\"field\":\"r\"},\"size\":761294.4533333333},\"id\":\"1486\",\"type\":\"HexTile\"},{\"attributes\":{},\"id\":\"1517\",\"type\":\"BasicTicker\"},{\"attributes\":{\"callback\":null,\"renderers\":[{\"id\":\"1489\"}],\"tags\":[\"hv_created\"],\"tooltips\":[[\"Count\",\"@{Count}\"]]},\"id\":\"1451\",\"type\":\"HoverTool\"},{\"attributes\":{},\"id\":\"1522\",\"type\":\"WheelZoomTool\"},{\"attributes\":{},\"id\":\"1484\",\"type\":\"Selection\"},{\"attributes\":{},\"id\":\"1520\",\"type\":\"SaveTool\"},{\"attributes\":{\"high\":738,\"low\":1,\"palette\":[\"#b3fef5\",\"#b0fef5\",\"#adfdf5\",\"#a9fcf5\",\"#a6fbf6\",\"#a3faf6\",\"#a0faf6\",\"#9df9f6\",\"#9af8f6\",\"#97f7f6\",\"#93f7f6\",\"#90f6f6\",\"#8df5f6\",\"#8af4f7\",\"#87f3f7\",\"#83f2f7\",\"#80f2f7\",\"#7df1f7\",\"#79f0f7\",\"#76eff7\",\"#73eef7\",\"#6fedf8\",\"#6cecf8\",\"#68ecf8\",\"#65ebf8\",\"#61eaf8\",\"#5ee9f8\",\"#5ae8f8\",\"#57e7f8\",\"#53e6f8\",\"#50e5f9\",\"#4ce4f9\",\"#49e3f9\",\"#45e2f9\",\"#42e1f9\",\"#3ee0f9\",\"#3bdff9\",\"#38def9\",\"#35ddf9\",\"#32dcf9\",\"#30dbfa\",\"#2ed9fa\",\"#2dd8fa\",\"#2cd7fa\",\"#2bd6fa\",\"#2bd5fa\",\"#2ad3fa\",\"#2ad2fa\",\"#29d1fa\",\"#29d0fb\",\"#29cffb\",\"#28cdfb\",\"#28ccfb\",\"#28cbfb\",\"#28cafb\",\"#28c8fb\",\"#28c7fb\",\"#29c6fb\",\"#29c5fb\",\"#29c4fb\",\"#29c2fb\",\"#2ac1fb\",\"#2ac0fb\",\"#2bbffb\",\"#2bbdfc\",\"#2cbcfc\",\"#2dbbfc\",\"#2db9fc\",\"#2eb8fc\",\"#2fb7fc\",\"#2fb6fc\",\"#30b4fc\",\"#31b3fc\",\"#32b2fc\",\"#32b0fc\",\"#33affc\",\"#33aefc\",\"#34adfc\",\"#34abfc\",\"#34aafc\",\"#35a9fc\",\"#35a8fc\",\"#35a6fc\",\"#35a5fc\",\"#35a4fc\",\"#35a3fc\",\"#35a1fc\",\"#35a0fc\",\"#359ffc\",\"#359dfc\",\"#359cfc\",\"#359bfc\",\"#349afd\",\"#3498fd\",\"#3497fd\",\"#3396fd\",\"#3395fd\",\"#3293fd\",\"#3292fd\",\"#3191fd\",\"#3090fd\",\"#308ffd\",\"#2f8dfd\",\"#2f8cfd\",\"#2e8bfd\",\"#2e8afd\",\"#2d88fd\",\"#2d87fd\",\"#2c86fd\",\"#2c84fd\",\"#2c83fd\",\"#2c82fd\",\"#2b81fd\",\"#2b7ffd\",\"#2b7efd\",\"#2b7dfd\",\"#2b7bfd\",\"#2b7afd\",\"#2b79fd\",\"#2b77fd\",\"#2b76fd\",\"#2b75fd\",\"#2b73fd\",\"#2c72fd\",\"#2c71fd\",\"#2c6ffd\",\"#2c6efd\",\"#2d6cfd\",\"#2d6bfd\",\"#2d6afc\",\"#2e68fc\",\"#2e67fc\",\"#2e65fc\",\"#2e64fc\",\"#2f62fc\",\"#2f61fc\",\"#2f5ffc\",\"#2f5efc\",\"#2f5dfc\",\"#2f5bfc\",\"#2f5afc\",\"#2f58fb\",\"#2f57fb\",\"#2f55fb\",\"#2f53fb\",\"#2f52fb\",\"#2f50fb\",\"#2f4ffb\",\"#2f4dfb\",\"#2e4cfb\",\"#2e4afb\",\"#2e48fb\",\"#2e47fa\",\"#2d45fa\",\"#2d43fa\",\"#2d42fa\",\"#2d40fa\",\"#2c3efa\",\"#2c3dfa\",\"#2b3bf9\",\"#2b39f9\",\"#2a37f9\",\"#2a36f8\",\"#2934f8\",\"#2832f7\",\"#2831f7\",\"#272ff6\",\"#262ef5\",\"#252cf5\",\"#252af4\",\"#2429f3\",\"#2327f2\",\"#2226f1\",\"#2124f0\",\"#2023ef\",\"#1f22ee\",\"#1e20ed\",\"#1d1feb\",\"#1c1eea\",\"#1b1ce9\",\"#1a1be7\",\"#181ae6\",\"#1719e5\",\"#1618e3\",\"#1417e1\",\"#1316e0\",\"#1215de\",\"#1014dc\",\"#0f13db\",\"#0e12d9\",\"#0d11d7\",\"#0c10d5\",\"#0b0fd3\",\"#0a0ed1\",\"#090dd0\",\"#080dce\",\"#080ccc\",\"#070bca\",\"#070ac8\",\"#0709c6\",\"#0708c4\",\"#0707c2\",\"#0707bf\",\"#0806bd\",\"#0806bb\",\"#0905b9\",\"#0904b7\",\"#0a04b5\",\"#0a04b2\",\"#0b03b0\",\"#0c03ae\",\"#0d02ab\",\"#0e02a9\",\"#0e02a7\",\"#0f02a4\",\"#0f01a2\",\"#1001a0\",\"#10019d\",\"#10019b\",\"#100199\",\"#100197\",\"#100194\",\"#0f0192\",\"#0f0190\",\"#0f018e\",\"#0e018b\",\"#0e0189\",\"#0d0187\",\"#0d0185\",\"#0c0183\",\"#0b0181\",\"#0b017e\",\"#0a017c\",\"#09017a\",\"#090178\",\"#080276\",\"#070274\",\"#060272\",\"#060270\",\"#05026e\",\"#04026c\",\"#030269\",\"#030267\",\"#020265\",\"#010263\",\"#010261\",\"#00025f\",\"#00025d\",\"#00025b\",\"#000259\",\"#000257\",\"#000255\",\"#000154\",\"#000152\",\"#000150\",\"#00004e\"]},\"id\":\"1482\",\"type\":\"LogColorMapper\"},{\"attributes\":{},\"id\":\"1550\",\"type\":\"AllLabels\"},{\"attributes\":{\"overlay\":{\"id\":\"1525\"}},\"id\":\"1523\",\"type\":\"BoxZoomTool\"},{\"attributes\":{},\"id\":\"1524\",\"type\":\"ResetTool\"},{\"attributes\":{},\"id\":\"1547\",\"type\":\"AllLabels\"},{\"attributes\":{\"bottom_units\":\"screen\",\"coordinates\":null,\"fill_alpha\":0.5,\"fill_color\":\"lightgrey\",\"group\":null,\"left_units\":\"screen\",\"level\":\"overlay\",\"line_alpha\":1.0,\"line_color\":\"black\",\"line_dash\":[4,4],\"line_width\":2,\"right_units\":\"screen\",\"syncable\":false,\"top_units\":\"screen\"},\"id\":\"1525\",\"type\":\"BoxAnnotation\"},{\"attributes\":{},\"id\":\"1546\",\"type\":\"BasicTickFormatter\"},{\"attributes\":{},\"id\":\"1542\",\"type\":\"LogTicker\"},{\"attributes\":{},\"id\":\"1549\",\"type\":\"BasicTickFormatter\"},{\"attributes\":{\"toolbar\":{\"id\":\"1576\"},\"toolbar_location\":\"above\"},\"id\":\"1577\",\"type\":\"ToolbarBox\"},{\"attributes\":{\"end\":44860718.1,\"reset_end\":44860718.1,\"reset_start\":-4078247.1,\"start\":-4078247.1,\"tags\":[[[\"Export Value\",\"Export Value\",null]]]},\"id\":\"1449\",\"type\":\"Range1d\"},{\"attributes\":{\"aspect_scale\":0.4773125202904067,\"fill_alpha\":{\"value\":0.2},\"fill_color\":{\"field\":\"Count\",\"transform\":{\"id\":\"1533\"}},\"hatch_alpha\":{\"value\":0.2},\"hatch_color\":{\"field\":\"Count\",\"transform\":{\"id\":\"1533\"}},\"line_alpha\":{\"value\":0.2},\"line_color\":{\"field\":\"Count\",\"transform\":{\"id\":\"1533\"}},\"q\":{\"field\":\"q\"},\"r\":{\"field\":\"r\"},\"size\":558147.2666666666},\"id\":\"1539\",\"type\":\"HexTile\"},{\"attributes\":{\"aspect_scale\":1.4000398357421744,\"fill_alpha\":{\"value\":0.2},\"fill_color\":{\"field\":\"Count\",\"transform\":{\"id\":\"1482\"}},\"hatch_alpha\":{\"value\":0.2},\"hatch_color\":{\"field\":\"Count\",\"transform\":{\"id\":\"1482\"}},\"line_alpha\":{\"value\":0.2},\"line_color\":{\"field\":\"Count\",\"transform\":{\"id\":\"1482\"}},\"q\":{\"field\":\"q\"},\"r\":{\"field\":\"r\"},\"size\":761294.4533333333},\"id\":\"1488\",\"type\":\"HexTile\"},{\"attributes\":{\"source\":{\"id\":\"1534\"}},\"id\":\"1541\",\"type\":\"CDSView\"},{\"attributes\":{\"source\":{\"id\":\"1483\"}},\"id\":\"1490\",\"type\":\"CDSView\"},{\"attributes\":{},\"id\":\"1457\",\"type\":\"LinearScale\"},{\"attributes\":{\"below\":[{\"id\":\"1461\"}],\"center\":[{\"id\":\"1464\"},{\"id\":\"1468\"}],\"height\":500,\"left\":[{\"id\":\"1465\"}],\"margin\":null,\"min_border_bottom\":10,\"min_border_left\":10,\"min_border_right\":10,\"min_border_top\":10,\"renderers\":[{\"id\":\"1489\"}],\"right\":[{\"id\":\"1492\"}],\"sizing_mode\":\"fixed\",\"title\":{\"id\":\"1453\"},\"toolbar\":{\"id\":\"1475\"},\"toolbar_location\":null,\"width\":500,\"x_range\":{\"id\":\"1449\"},\"x_scale\":{\"id\":\"1457\"},\"y_range\":{\"id\":\"1450\"},\"y_scale\":{\"id\":\"1459\"}},\"id\":\"1452\",\"subtype\":\"Figure\",\"type\":\"Plot\"},{\"attributes\":{\"bar_line_color\":\"black\",\"color_mapper\":{\"id\":\"1533\"},\"coordinates\":null,\"group\":null,\"label_standoff\":8,\"location\":[0,0],\"major_label_policy\":{\"id\":\"1567\"},\"major_tick_line_color\":\"black\",\"ticker\":{\"id\":\"1542\"}},\"id\":\"1543\",\"type\":\"ColorBar\"},{\"attributes\":{},\"id\":\"1498\",\"type\":\"BasicTickFormatter\"},{\"attributes\":{\"children\":[{\"id\":\"1577\"},{\"id\":\"1575\"}]},\"id\":\"1578\",\"type\":\"Column\"},{\"attributes\":{\"coordinates\":null,\"data_source\":{\"id\":\"1483\"},\"glyph\":{\"id\":\"1486\"},\"group\":null,\"hover_glyph\":null,\"muted_glyph\":{\"id\":\"1488\"},\"nonselection_glyph\":{\"id\":\"1487\"},\"selection_glyph\":{\"id\":\"1493\"},\"view\":{\"id\":\"1490\"}},\"id\":\"1489\",\"type\":\"GlyphRenderer\"},{\"attributes\":{\"coordinates\":null,\"data_source\":{\"id\":\"1534\"},\"glyph\":{\"id\":\"1537\"},\"group\":null,\"hover_glyph\":null,\"muted_glyph\":{\"id\":\"1539\"},\"nonselection_glyph\":{\"id\":\"1538\"},\"selection_glyph\":{\"id\":\"1544\"},\"view\":{\"id\":\"1541\"}},\"id\":\"1540\",\"type\":\"GlyphRenderer\"},{\"attributes\":{\"end\":57097084.0,\"reset_end\":57097084.0,\"reset_start\":0.0,\"tags\":[[[\"Import Value\",\"Import Value\",null]]]},\"id\":\"1450\",\"type\":\"Range1d\"},{\"attributes\":{\"high\":738,\"low\":1,\"palette\":[\"#b3fef5\",\"#b0fef5\",\"#adfdf5\",\"#a9fcf5\",\"#a6fbf6\",\"#a3faf6\",\"#a0faf6\",\"#9df9f6\",\"#9af8f6\",\"#97f7f6\",\"#93f7f6\",\"#90f6f6\",\"#8df5f6\",\"#8af4f7\",\"#87f3f7\",\"#83f2f7\",\"#80f2f7\",\"#7df1f7\",\"#79f0f7\",\"#76eff7\",\"#73eef7\",\"#6fedf8\",\"#6cecf8\",\"#68ecf8\",\"#65ebf8\",\"#61eaf8\",\"#5ee9f8\",\"#5ae8f8\",\"#57e7f8\",\"#53e6f8\",\"#50e5f9\",\"#4ce4f9\",\"#49e3f9\",\"#45e2f9\",\"#42e1f9\",\"#3ee0f9\",\"#3bdff9\",\"#38def9\",\"#35ddf9\",\"#32dcf9\",\"#30dbfa\",\"#2ed9fa\",\"#2dd8fa\",\"#2cd7fa\",\"#2bd6fa\",\"#2bd5fa\",\"#2ad3fa\",\"#2ad2fa\",\"#29d1fa\",\"#29d0fb\",\"#29cffb\",\"#28cdfb\",\"#28ccfb\",\"#28cbfb\",\"#28cafb\",\"#28c8fb\",\"#28c7fb\",\"#29c6fb\",\"#29c5fb\",\"#29c4fb\",\"#29c2fb\",\"#2ac1fb\",\"#2ac0fb\",\"#2bbffb\",\"#2bbdfc\",\"#2cbcfc\",\"#2dbbfc\",\"#2db9fc\",\"#2eb8fc\",\"#2fb7fc\",\"#2fb6fc\",\"#30b4fc\",\"#31b3fc\",\"#32b2fc\",\"#32b0fc\",\"#33affc\",\"#33aefc\",\"#34adfc\",\"#34abfc\",\"#34aafc\",\"#35a9fc\",\"#35a8fc\",\"#35a6fc\",\"#35a5fc\",\"#35a4fc\",\"#35a3fc\",\"#35a1fc\",\"#35a0fc\",\"#359ffc\",\"#359dfc\",\"#359cfc\",\"#359bfc\",\"#349afd\",\"#3498fd\",\"#3497fd\",\"#3396fd\",\"#3395fd\",\"#3293fd\",\"#3292fd\",\"#3191fd\",\"#3090fd\",\"#308ffd\",\"#2f8dfd\",\"#2f8cfd\",\"#2e8bfd\",\"#2e8afd\",\"#2d88fd\",\"#2d87fd\",\"#2c86fd\",\"#2c84fd\",\"#2c83fd\",\"#2c82fd\",\"#2b81fd\",\"#2b7ffd\",\"#2b7efd\",\"#2b7dfd\",\"#2b7bfd\",\"#2b7afd\",\"#2b79fd\",\"#2b77fd\",\"#2b76fd\",\"#2b75fd\",\"#2b73fd\",\"#2c72fd\",\"#2c71fd\",\"#2c6ffd\",\"#2c6efd\",\"#2d6cfd\",\"#2d6bfd\",\"#2d6afc\",\"#2e68fc\",\"#2e67fc\",\"#2e65fc\",\"#2e64fc\",\"#2f62fc\",\"#2f61fc\",\"#2f5ffc\",\"#2f5efc\",\"#2f5dfc\",\"#2f5bfc\",\"#2f5afc\",\"#2f58fb\",\"#2f57fb\",\"#2f55fb\",\"#2f53fb\",\"#2f52fb\",\"#2f50fb\",\"#2f4ffb\",\"#2f4dfb\",\"#2e4cfb\",\"#2e4afb\",\"#2e48fb\",\"#2e47fa\",\"#2d45fa\",\"#2d43fa\",\"#2d42fa\",\"#2d40fa\",\"#2c3efa\",\"#2c3dfa\",\"#2b3bf9\",\"#2b39f9\",\"#2a37f9\",\"#2a36f8\",\"#2934f8\",\"#2832f7\",\"#2831f7\",\"#272ff6\",\"#262ef5\",\"#252cf5\",\"#252af4\",\"#2429f3\",\"#2327f2\",\"#2226f1\",\"#2124f0\",\"#2023ef\",\"#1f22ee\",\"#1e20ed\",\"#1d1feb\",\"#1c1eea\",\"#1b1ce9\",\"#1a1be7\",\"#181ae6\",\"#1719e5\",\"#1618e3\",\"#1417e1\",\"#1316e0\",\"#1215de\",\"#1014dc\",\"#0f13db\",\"#0e12d9\",\"#0d11d7\",\"#0c10d5\",\"#0b0fd3\",\"#0a0ed1\",\"#090dd0\",\"#080dce\",\"#080ccc\",\"#070bca\",\"#070ac8\",\"#0709c6\",\"#0708c4\",\"#0707c2\",\"#0707bf\",\"#0806bd\",\"#0806bb\",\"#0905b9\",\"#0904b7\",\"#0a04b5\",\"#0a04b2\",\"#0b03b0\",\"#0c03ae\",\"#0d02ab\",\"#0e02a9\",\"#0e02a7\",\"#0f02a4\",\"#0f01a2\",\"#1001a0\",\"#10019d\",\"#10019b\",\"#100199\",\"#100197\",\"#100194\",\"#0f0192\",\"#0f0190\",\"#0f018e\",\"#0e018b\",\"#0e0189\",\"#0d0187\",\"#0d0185\",\"#0c0183\",\"#0b0181\",\"#0b017e\",\"#0a017c\",\"#09017a\",\"#090178\",\"#080276\",\"#070274\",\"#060272\",\"#060270\",\"#05026e\",\"#04026c\",\"#030269\",\"#030267\",\"#020265\",\"#010263\",\"#010261\",\"#00025f\",\"#00025d\",\"#00025b\",\"#000259\",\"#000257\",\"#000255\",\"#000154\",\"#000152\",\"#000150\",\"#00004e\"]},\"id\":\"1533\",\"type\":\"LogColorMapper\"},{\"attributes\":{},\"id\":\"1470\",\"type\":\"PanTool\"},{\"attributes\":{\"coordinates\":null,\"group\":null,\"text_color\":\"black\",\"text_font_size\":\"12pt\"},\"id\":\"1453\",\"type\":\"Title\"},{\"attributes\":{},\"id\":\"1555\",\"type\":\"NoOverlap\"},{\"attributes\":{},\"id\":\"1499\",\"type\":\"AllLabels\"},{\"attributes\":{\"axis\":{\"id\":\"1461\"},\"coordinates\":null,\"grid_line_color\":null,\"group\":null,\"ticker\":null},\"id\":\"1464\",\"type\":\"Grid\"},{\"attributes\":{\"axis_label\":\"Export Value\",\"coordinates\":null,\"formatter\":{\"id\":\"1495\"},\"group\":null,\"major_label_policy\":{\"id\":\"1496\"},\"ticker\":{\"id\":\"1462\"}},\"id\":\"1461\",\"type\":\"LinearAxis\"},{\"attributes\":{\"axis\":{\"id\":\"1465\"},\"coordinates\":null,\"dimension\":1,\"grid_line_color\":null,\"group\":null,\"ticker\":null},\"id\":\"1468\",\"type\":\"Grid\"},{\"attributes\":{},\"id\":\"1462\",\"type\":\"BasicTicker\"},{\"attributes\":{},\"id\":\"1535\",\"type\":\"Selection\"},{\"attributes\":{\"axis_label\":\"Import Value\",\"coordinates\":null,\"formatter\":{\"id\":\"1498\"},\"group\":null,\"major_label_policy\":{\"id\":\"1499\"},\"ticker\":{\"id\":\"1466\"}},\"id\":\"1465\",\"type\":\"LinearAxis\"},{\"attributes\":{},\"id\":\"1567\",\"type\":\"NoOverlap\"},{\"attributes\":{},\"id\":\"1466\",\"type\":\"BasicTicker\"},{\"attributes\":{\"aspect_scale\":0.4773125202904067,\"fill_color\":{\"field\":\"Count\",\"transform\":{\"id\":\"1533\"}},\"hatch_color\":{\"field\":\"Count\",\"transform\":{\"id\":\"1533\"}},\"line_color\":{\"field\":\"Count\",\"transform\":{\"id\":\"1533\"}},\"q\":{\"field\":\"q\"},\"r\":{\"field\":\"r\"},\"size\":558147.2666666666},\"id\":\"1537\",\"type\":\"HexTile\"},{\"attributes\":{},\"id\":\"1559\",\"type\":\"UnionRenderers\"},{\"attributes\":{},\"id\":\"1471\",\"type\":\"WheelZoomTool\"},{\"attributes\":{},\"id\":\"1495\",\"type\":\"BasicTickFormatter\"},{\"attributes\":{},\"id\":\"1469\",\"type\":\"SaveTool\"},{\"attributes\":{\"margin\":[5,5,5,5],\"name\":\"HSpacer03250\",\"sizing_mode\":\"stretch_width\"},\"id\":\"1777\",\"type\":\"Spacer\"},{\"attributes\":{\"bar_line_color\":\"black\",\"color_mapper\":{\"id\":\"1482\"},\"coordinates\":null,\"group\":null,\"label_standoff\":8,\"location\":[0,0],\"major_label_policy\":{\"id\":\"1555\"},\"major_tick_line_color\":\"black\",\"ticker\":{\"id\":\"1491\"}},\"id\":\"1492\",\"type\":\"ColorBar\"},{\"attributes\":{\"overlay\":{\"id\":\"1474\"}},\"id\":\"1472\",\"type\":\"BoxZoomTool\"},{\"attributes\":{},\"id\":\"1473\",\"type\":\"ResetTool\"},{\"attributes\":{\"toolbars\":[{\"id\":\"1475\"},{\"id\":\"1526\"}],\"tools\":[{\"id\":\"1451\"},{\"id\":\"1469\"},{\"id\":\"1470\"},{\"id\":\"1471\"},{\"id\":\"1472\"},{\"id\":\"1473\"},{\"id\":\"1502\"},{\"id\":\"1520\"},{\"id\":\"1521\"},{\"id\":\"1522\"},{\"id\":\"1523\"},{\"id\":\"1524\"}]},\"id\":\"1576\",\"type\":\"ProxyToolbar\"},{\"attributes\":{},\"id\":\"1496\",\"type\":\"AllLabels\"},{\"attributes\":{},\"id\":\"1571\",\"type\":\"UnionRenderers\"},{\"attributes\":{},\"id\":\"1491\",\"type\":\"LogTicker\"},{\"attributes\":{\"aspect_scale\":1.4000398357421744,\"fill_alpha\":{\"value\":1.0},\"fill_color\":{\"field\":\"Count\",\"transform\":{\"id\":\"1482\"}},\"hatch_alpha\":{\"value\":1.0},\"hatch_color\":{\"field\":\"Count\",\"transform\":{\"id\":\"1482\"}},\"hatch_scale\":{\"value\":12.0},\"hatch_weight\":{\"value\":1.0},\"line_alpha\":{\"value\":1.0},\"line_cap\":{\"value\":\"butt\"},\"line_color\":{\"field\":\"Count\",\"transform\":{\"id\":\"1482\"}},\"line_dash\":{\"value\":[]},\"line_dash_offset\":{\"value\":0},\"line_join\":{\"value\":\"bevel\"},\"line_width\":{\"value\":1},\"q\":{\"field\":\"q\"},\"r\":{\"field\":\"r\"},\"scale\":{\"value\":1.0},\"size\":761294.4533333333},\"id\":\"1493\",\"type\":\"HexTile\"},{\"attributes\":{\"tools\":[{\"id\":\"1502\"},{\"id\":\"1520\"},{\"id\":\"1521\"},{\"id\":\"1522\"},{\"id\":\"1523\"},{\"id\":\"1524\"}]},\"id\":\"1526\",\"type\":\"Toolbar\"}],\"root_ids\":[\"1447\"]},\"title\":\"Bokeh Application\",\"version\":\"2.4.2\"}};\n",
       "    var render_items = [{\"docid\":\"0b421eee-a81d-4c20-b975-566c34f6b108\",\"root_ids\":[\"1447\"],\"roots\":{\"1447\":\"60be29ec-d2a2-4a70-8f2e-626babd135bb\"}}];\n",
       "    root.Bokeh.embed.embed_items_notebook(docs_json, render_items);\n",
       "  }\n",
       "  if (root.Bokeh !== undefined && root.Bokeh.Panel !== undefined) {\n",
       "    embed_document(root);\n",
       "  } else {\n",
       "    var attempts = 0;\n",
       "    var timer = setInterval(function(root) {\n",
       "      if (root.Bokeh !== undefined && root.Bokeh.Panel !== undefined) {\n",
       "        clearInterval(timer);\n",
       "        embed_document(root);\n",
       "      } else if (document.readyState == \"complete\") {\n",
       "        attempts++;\n",
       "        if (attempts > 200) {\n",
       "          clearInterval(timer);\n",
       "          console.log(\"Bokeh: ERROR: Unable to run BokehJS code because BokehJS library is missing\");\n",
       "        }\n",
       "      }\n",
       "    }, 25, root)\n",
       "  }\n",
       "})(window);</script>"
      ],
      "text/plain": [
       ":Layout\n",
       "   .HexTiles.I  :HexTiles   [Import Value,Export Value]\n",
       "   .HexTiles.II :HexTiles   [Import Quantity,Export Quantity]"
      ]
     },
     "metadata": {
      "application/vnd.holoviews_exec.v0+json": {
       "id": "1447"
      }
     },
     "output_type": "display_data"
    }
   ],
   "source": [
    "t =tr_pivot.hvplot.hexbin(x='Import Value' , y='Export Value', width=500, height=500, logz=True,invert = True)\n",
    "j = tr_pivot.hvplot.hexbin(x='Import Quantity' , y='Export Quantity', width=500, height=500, logz=True,invert = True)\n",
    "display(t+j)"
   ]
  },
  {
   "cell_type": "code",
   "execution_count": 26,
   "id": "02d7e190",
   "metadata": {},
   "outputs": [],
   "source": [
    "a= trade_clean.groupby(['Area'])['Item'].count().reset_index()"
   ]
  },
  {
   "cell_type": "code",
   "execution_count": 1,
   "id": "5f7019d0",
   "metadata": {},
   "outputs": [
    {
     "name": "stdout",
     "output_type": "stream",
     "text": [
      "Requirement already satisfied: nbconvert in c:\\users\\anand\\anaconda3\\lib\\site-packages (6.4.4)\n",
      "Requirement already satisfied: pandocfilters>=1.4.1 in c:\\users\\anand\\anaconda3\\lib\\site-packages (from nbconvert) (1.5.0)\n",
      "Requirement already satisfied: pygments>=2.4.1 in c:\\users\\anand\\anaconda3\\lib\\site-packages (from nbconvert) (2.11.2)\n",
      "Requirement already satisfied: bleach in c:\\users\\anand\\anaconda3\\lib\\site-packages (from nbconvert) (4.1.0)\n",
      "Requirement already satisfied: testpath in c:\\users\\anand\\anaconda3\\lib\\site-packages (from nbconvert) (0.5.0)\n",
      "Requirement already satisfied: defusedxml in c:\\users\\anand\\anaconda3\\lib\\site-packages (from nbconvert) (0.7.1)\n",
      "Requirement already satisfied: jupyter-core in c:\\users\\anand\\anaconda3\\lib\\site-packages (from nbconvert) (4.9.2)\n",
      "Requirement already satisfied: mistune<2,>=0.8.1 in c:\\users\\anand\\anaconda3\\lib\\site-packages (from nbconvert) (0.8.4)\n",
      "Requirement already satisfied: jinja2>=2.4 in c:\\users\\anand\\anaconda3\\lib\\site-packages (from nbconvert) (2.11.3)\n",
      "Requirement already satisfied: traitlets>=5.0 in c:\\users\\anand\\anaconda3\\lib\\site-packages (from nbconvert) (5.1.1)\n",
      "Requirement already satisfied: beautifulsoup4 in c:\\users\\anand\\anaconda3\\lib\\site-packages (from nbconvert) (4.11.1)\n",
      "Requirement already satisfied: entrypoints>=0.2.2 in c:\\users\\anand\\anaconda3\\lib\\site-packages (from nbconvert) (0.4)\n",
      "Requirement already satisfied: nbclient<0.6.0,>=0.5.0 in c:\\users\\anand\\anaconda3\\lib\\site-packages (from nbconvert) (0.5.13)\n",
      "Requirement already satisfied: jupyterlab-pygments in c:\\users\\anand\\anaconda3\\lib\\site-packages (from nbconvert) (0.1.2)\n",
      "Requirement already satisfied: nbformat>=4.4 in c:\\users\\anand\\anaconda3\\lib\\site-packages (from nbconvert) (5.3.0)\n",
      "Requirement already satisfied: MarkupSafe>=0.23 in c:\\users\\anand\\anaconda3\\lib\\site-packages (from jinja2>=2.4->nbconvert) (2.0.1)\n",
      "Requirement already satisfied: jupyter-client>=6.1.5 in c:\\users\\anand\\anaconda3\\lib\\site-packages (from nbclient<0.6.0,>=0.5.0->nbconvert) (6.1.12)\n",
      "Requirement already satisfied: nest-asyncio in c:\\users\\anand\\anaconda3\\lib\\site-packages (from nbclient<0.6.0,>=0.5.0->nbconvert) (1.5.5)\n",
      "Requirement already satisfied: pyzmq>=13 in c:\\users\\anand\\anaconda3\\lib\\site-packages (from jupyter-client>=6.1.5->nbclient<0.6.0,>=0.5.0->nbconvert) (22.3.0)\n",
      "Requirement already satisfied: tornado>=4.1 in c:\\users\\anand\\anaconda3\\lib\\site-packages (from jupyter-client>=6.1.5->nbclient<0.6.0,>=0.5.0->nbconvert) (6.1)\n",
      "Requirement already satisfied: python-dateutil>=2.1 in c:\\users\\anand\\anaconda3\\lib\\site-packages (from jupyter-client>=6.1.5->nbclient<0.6.0,>=0.5.0->nbconvert) (2.8.2)\n",
      "Requirement already satisfied: pywin32>=1.0 in c:\\users\\anand\\anaconda3\\lib\\site-packages (from jupyter-core->nbconvert) (302)\n",
      "Requirement already satisfied: fastjsonschema in c:\\users\\anand\\anaconda3\\lib\\site-packages (from nbformat>=4.4->nbconvert) (2.15.1)\n",
      "Requirement already satisfied: jsonschema>=2.6 in c:\\users\\anand\\anaconda3\\lib\\site-packages (from nbformat>=4.4->nbconvert) (4.4.0)\n",
      "Requirement already satisfied: pyrsistent!=0.17.0,!=0.17.1,!=0.17.2,>=0.14.0 in c:\\users\\anand\\anaconda3\\lib\\site-packages (from jsonschema>=2.6->nbformat>=4.4->nbconvert) (0.18.0)\n",
      "Requirement already satisfied: attrs>=17.4.0 in c:\\users\\anand\\anaconda3\\lib\\site-packages (from jsonschema>=2.6->nbformat>=4.4->nbconvert) (21.4.0)\n",
      "Requirement already satisfied: six>=1.5 in c:\\users\\anand\\anaconda3\\lib\\site-packages (from python-dateutil>=2.1->jupyter-client>=6.1.5->nbclient<0.6.0,>=0.5.0->nbconvert) (1.16.0)\n",
      "Requirement already satisfied: soupsieve>1.2 in c:\\users\\anand\\anaconda3\\lib\\site-packages (from beautifulsoup4->nbconvert) (2.3.1)\n",
      "Requirement already satisfied: webencodings in c:\\users\\anand\\anaconda3\\lib\\site-packages (from bleach->nbconvert) (0.5.1)\n",
      "Requirement already satisfied: packaging in c:\\users\\anand\\anaconda3\\lib\\site-packages (from bleach->nbconvert) (21.3)\n",
      "Requirement already satisfied: pyparsing!=3.0.5,>=2.0.2 in c:\\users\\anand\\anaconda3\\lib\\site-packages (from packaging->bleach->nbconvert) (3.0.4)\n",
      "Note: you may need to restart the kernel to use updated packages.\n"
     ]
    }
   ],
   "source": [
    "pip install nbconvert\n"
   ]
  },
  {
   "cell_type": "code",
   "execution_count": null,
   "id": "53173081-9012-4870-b2da-3accd7399aa5",
   "metadata": {},
   "outputs": [],
   "source": []
  }
 ],
 "metadata": {
  "kernelspec": {
   "display_name": "Python 3 (ipykernel)",
   "language": "python",
   "name": "python3"
  },
  "language_info": {
   "codemirror_mode": {
    "name": "ipython",
    "version": 3
   },
   "file_extension": ".py",
   "mimetype": "text/x-python",
   "name": "python",
   "nbconvert_exporter": "python",
   "pygments_lexer": "ipython3",
   "version": "3.9.13"
  }
 },
 "nbformat": 4,
 "nbformat_minor": 5
}
